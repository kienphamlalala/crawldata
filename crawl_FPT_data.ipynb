{
 "cells": [
  {
   "cell_type": "code",
   "execution_count": 8,
   "metadata": {},
   "outputs": [],
   "source": [
    "from selenium import webdriver\n",
    "from bs4 import BeautifulSoup \n",
    "import pandas as pd\n",
    "import csv\n",
    "import requests\n",
    "\n",
    "# Open web automaticly\n",
    "driver=webdriver.Edge()\n",
    "url='https://fptshop.com.vn/dien-thoai' #Lấy link để mở web tự động\n",
    "driver.get(url)\n",
    "\n"
   ]
  },
  {
   "cell_type": "code",
   "execution_count": 9,
   "metadata": {},
   "outputs": [],
   "source": [
    "def GetUrl():\n",
    "    page_s=BeautifulSoup(driver.page_source,\"html.parser\") #dùng bs4 tải toàn bộ HTML document lên chương trình\n",
    "\n",
    "    tel_infors=page_s.find('div',class_='cdt-product-wrapper m-b-20')\n",
    "\n",
    "    all_prod=[]\n",
    "\n",
    "    for tel_infor in tel_infors:\n",
    "        \n",
    "        tel_ID=tel_infor.find('a').get('href') # lấy link đuôi trong thành phần có tên là href\n",
    "        tel_If_url=''\n",
    "        if tel_ID !=None and tel_If_url not in all_prod:\n",
    "            tel_If_url='https://fptshop.com.vn'+tel_ID\n",
    "            all_prod.append(tel_If_url)\n",
    "        set(all_prod)\n",
    "    return all_prod\n",
    "    \n"
   ]
  },
  {
   "cell_type": "code",
   "execution_count": 10,
   "metadata": {},
   "outputs": [
    {
     "name": "stderr",
     "output_type": "stream",
     "text": [
      "C:\\Users\\Admin\\AppData\\Local\\Temp\\ipykernel_12812\\2358433284.py:6: DeprecationWarning: find_element_by_xpath is deprecated. Please use find_element(by=By.XPATH, value=xpath) instead\n",
      "  next_btn=driver.find_element_by_xpath('//*[@id=\"root\"]/main/div/div[3]/div[2]/div[2]/div/div[3]/a')\n"
     ]
    },
    {
     "name": "stdout",
     "output_type": "stream",
     "text": [
      "54\n"
     ]
    }
   ],
   "source": [
    "\n",
    "numPg=5    \n",
    "Url_all=[]\n",
    "  \n",
    "for i in range(numPg):\n",
    "    driver.execute_script('window.scrollTo(0,document.body.scrollHeight)') # thực hiện kéo xuống xuối cuối trang \n",
    "    next_btn=driver.find_element_by_xpath('//*[@id=\"root\"]/main/div/div[3]/div[2]/div[2]/div/div[3]/a')\n",
    "    next_btn.click()\n",
    "driver.execute_script('window.scrollTo(0,document.body.scrollHeight)') # thực hiện kéo xuống xuối cuối trang \n",
    "Url_each_page=GetUrl() # Lấy thông tin tất cả từng trang\n",
    "Url_all=Url_all+Url_each_page \n",
    "print(len(Url_all))\n"
   ]
  },
  {
   "cell_type": "markdown",
   "metadata": {},
   "source": []
  },
  {
   "cell_type": "code",
   "execution_count": null,
   "metadata": {},
   "outputs": [],
   "source": [
    "with open('dt3.csv','a',newline='',encoding='utf-8')as file_output:\n",
    "    \n",
    "    writer=csv.writer(file_output)\n",
    "    for url in Url_all:\n",
    "    \n",
    "        driver.get(url)\n",
    "        page_source=BeautifulSoup(driver.page_source,\"html.parser\")\n",
    "\n",
    "        div1=page_source.find('table',class_='st-pd-table')\n",
    "\n",
    "        try :\n",
    "            display=div1.find_all('td')[1].get_text()\n",
    "        except AttributeError                            :\n",
    "            continue\n",
    "\n",
    "        name=page_source.find_all('h1',class_='st-name')[0].get_text()\n",
    "        name=name.split(' ')\n",
    "        brand=name[0]\n",
    "        name2=name.pop(-1)\n",
    "        name=\" \".join(name)\n",
    "\n",
    "        ram=div1.find_all('td')[7].get_text()\n",
    "\n",
    "        rom=div1.find_all('td')[9].get_text()\n",
    "\n",
    "        cpu=div1.find_all('td')[11].get_text()\n",
    "        try:\n",
    "            battery=div1.find_all('td')[15].get_text()\n",
    "        except IndexError:\n",
    "            continue\n",
    "        try:\n",
    "            hdh=div1.find_all('td')[19].get_text()\n",
    "        except IndexError:\n",
    "            continue\n",
    "\n",
    "        sim=div1.find_all('td')[17].get_text()\n",
    "\n",
    "\n",
    "        camera_sau=div1.find_all('td')[3].get_text()\n",
    "        camera_truoc=div1.find_all('td')[5].get_text()\n",
    "\n",
    "\n",
    "        nameshop=\"Cửa hàng FPT\"\n",
    "\n",
    "\n",
    "        gia_tmp=page_source.find_all('div',class_='st-price-main')[0].get_text()\n",
    "        gia=gia_tmp.replace('₫','')\n",
    "        gia=int(gia.replace('.',''))\n",
    "\n",
    "        try :\n",
    "\n",
    "            danhgia=page_source.find_all('div',class_='point')[0].get_text()\n",
    "            danhgia=danhgia.split('/')\n",
    "            danhgia=float(danhgia[0])\n",
    "        except IndexError :\n",
    "            continue\n",
    "\n",
    "\n",
    "        soluong=page_source.find_all('a',class_='re-link',id='re-rate')[0].get_text()\n",
    "        soluong=soluong.split(' ')\n",
    "        soluong=int(soluong[0])\n",
    "\n",
    "        link=url\n",
    "        writer.writerow([name,brand,display,hdh,camera_sau,camera_truoc,cpu,ram,rom,sim,battery,gia,danhgia,soluong,link,nameshop])\n",
    "        \n",
    "    "
   ]
  },
  {
   "cell_type": "code",
   "execution_count": null,
   "metadata": {},
   "outputs": [
    {
     "ename": "NameError",
     "evalue": "name 'Url_all' is not defined",
     "output_type": "error",
     "traceback": [
      "\u001b[1;31m---------------------------------------------------------------------------\u001b[0m",
      "\u001b[1;31mNameError\u001b[0m                                 Traceback (most recent call last)",
      "\u001b[1;32md:\\VISUAL\\python\\CrawlDataFromWeb\\crawl_FPT_data.ipynb Cell 6'\u001b[0m in \u001b[0;36m<module>\u001b[1;34m\u001b[0m\n\u001b[1;32m----> <a href='vscode-notebook-cell:/d%3A/VISUAL/python/CrawlDataFromWeb/crawl_FPT_data.ipynb#ch0000005?line=0'>1</a>\u001b[0m \u001b[39mfor\u001b[39;00m url \u001b[39min\u001b[39;00m Url_all:\n\u001b[0;32m      <a href='vscode-notebook-cell:/d%3A/VISUAL/python/CrawlDataFromWeb/crawl_FPT_data.ipynb#ch0000005?line=2'>3</a>\u001b[0m         driver\u001b[39m.\u001b[39mget(url)\n\u001b[0;32m      <a href='vscode-notebook-cell:/d%3A/VISUAL/python/CrawlDataFromWeb/crawl_FPT_data.ipynb#ch0000005?line=3'>4</a>\u001b[0m         page_source\u001b[39m=\u001b[39mBeautifulSoup(driver\u001b[39m.\u001b[39mpage_source,\u001b[39m\"\u001b[39m\u001b[39mhtml.parser\u001b[39m\u001b[39m\"\u001b[39m)\n",
      "\u001b[1;31mNameError\u001b[0m: name 'Url_all' is not defined"
     ]
    }
   ],
   "source": []
  }
 ],
 "metadata": {
  "interpreter": {
   "hash": "bfb4883d108fc92ac768439090a2e92bb9a1f760a54beeecfd6762b5dcd70fe3"
  },
  "kernelspec": {
   "display_name": "Python 3.10.2 64-bit",
   "language": "python",
   "name": "python3"
  },
  "language_info": {
   "codemirror_mode": {
    "name": "ipython",
    "version": 3
   },
   "file_extension": ".py",
   "mimetype": "text/x-python",
   "name": "python",
   "nbconvert_exporter": "python",
   "pygments_lexer": "ipython3",
   "version": "3.10.2"
  },
  "orig_nbformat": 4
 },
 "nbformat": 4,
 "nbformat_minor": 2
}
