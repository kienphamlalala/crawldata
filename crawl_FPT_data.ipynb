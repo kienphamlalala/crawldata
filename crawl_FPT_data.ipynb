{
 "cells": [
  {
   "cell_type": "code",
   "execution_count": 7,
   "metadata": {},
   "outputs": [],
   "source": [
    "from selenium import webdriver\n",
    "from bs4 import BeautifulSoup \n",
    "import pandas as pd\n",
    "import csv\n",
    "import requests\n",
    "\n",
    "# Open web automaticly\n",
    "driver=webdriver.Edge()\n",
    "url='https://fptshop.com.vn/dien-thoai' #Lấy link để mở web tự động\n",
    "driver.get(url)\n",
    "\n"
   ]
  },
  {
   "cell_type": "code",
   "execution_count": 8,
   "metadata": {},
   "outputs": [],
   "source": [
    "def GetUrl():\n",
    "    page_s=BeautifulSoup(driver.page_source,\"html.parser\") #dùng bs4 tải toàn bộ HTML document lên chương trình\n",
    "\n",
    "    tel_infors=page_s.find('div',class_='cdt-product-wrapper m-b-20')\n",
    "\n",
    "    all_prod=[]\n",
    "    \n",
    "    for tel_infor in tel_infors:\n",
    "        \n",
    "        tel_ID=tel_infor.find('a').get('href') # lấy link đuôi trong thành phần có tên là href\n",
    "        tel_If_url=''\n",
    "        if tel_ID !=None and tel_If_url not in all_prod:\n",
    "            tel_If_url='https://fptshop.com.vn'+tel_ID\n",
    "            all_prod.append(tel_If_url)\n",
    "        set(all_prod)\n",
    "    return all_prod\n",
    "    \n"
   ]
  },
  {
   "cell_type": "code",
   "execution_count": 9,
   "metadata": {},
   "outputs": [
    {
     "name": "stderr",
     "output_type": "stream",
     "text": [
      "C:\\Users\\Admin\\AppData\\Local\\Temp\\ipykernel_4644\\616422685.py:7: DeprecationWarning: find_element_by_xpath is deprecated. Please use find_element(by=By.XPATH, value=xpath) instead\n",
      "  next_btn=driver.find_element_by_xpath('//*[@id=\"root\"]/main/div/div[3]/div[2]/div[2]/div/div[3]/a')\n"
     ]
    },
    {
     "name": "stdout",
     "output_type": "stream",
     "text": [
      "['https://fptshop.com.vn/dien-thoai/iphone-13-pro-max?dung-luong=128gb', 'https://fptshop.com.vn/dien-thoai/oppo-reno7-z', 'https://fptshop.com.vn/dien-thoai/samsung-galaxy-s22-ultra?dung-luong=128-gb', 'https://fptshop.com.vn/dien-thoai/iphone-11-64gb', 'https://fptshop.com.vn/dien-thoai/oppo-reno7?ho-tro-mang=4g', 'https://fptshop.com.vn/dien-thoai/xiaomi-11-lite-5g-ne?dung-luong=8gb-256gb', 'https://fptshop.com.vn/dien-thoai/nokia-g21', 'https://fptshop.com.vn/dien-thoai/xiaomi-redmi-note-11s?dung-luong=6gb-128gb', 'https://fptshop.com.vn/dien-thoai/iphone-12?dung-luong=64gb', 'https://fptshop.com.vn/dien-thoai/samsung-galaxy-z-fold3?dung-luong=256-gb', 'https://fptshop.com.vn/dien-thoai/samsung-galaxy-z-flip-3?dung-luong=128-gb', 'https://fptshop.com.vn/dien-thoai/xiaomi-11t-pro', 'https://fptshop.com.vn/dien-thoai/samsung-galaxy-note-20-ultra', 'https://fptshop.com.vn/dien-thoai/vivo-y21', 'https://fptshop.com.vn/dien-thoai/vivo-y15s', 'https://fptshop.com.vn/dien-thoai/samsung-galaxy-a22?ho-tro-mang=5g', 'https://fptshop.com.vn/dien-thoai/tecno-pova2?dung-luong=64gb', 'https://fptshop.com.vn/dien-thoai/tecno-pop-5', 'https://fptshop.com.vn/dien-thoai/realme-c35', 'https://fptshop.com.vn/dien-thoai/nokia-c30', 'https://fptshop.com.vn/dien-thoai/vivo-v23e', 'https://fptshop.com.vn/dien-thoai/samsung-galaxy-a12', 'https://fptshop.com.vn/dien-thoai/xiaomi-redmi-9a-2gb-32gb', 'https://fptshop.com.vn/dien-thoai/xiaomi-redmi-10c', 'https://fptshop.com.vn/dien-thoai/xiaomi-redmi-note-11-pro?ho-tro-mang=4g', 'https://fptshop.com.vn/dien-thoai/xiaomi-11t', 'https://fptshop.com.vn/dien-thoai/oppo-a95']\n"
     ]
    }
   ],
   "source": [
    "numPg=5\n",
    "    \n",
    "Url_all=[]\n",
    "  \n",
    "for i in range(numPg):\n",
    "    driver.execute_script('window.scrollTo(0,document.body.scrollHeight)') # thực hiện kéo xuống xuối cuối trang \n",
    "    next_btn=driver.find_element_by_xpath('//*[@id=\"root\"]/main/div/div[3]/div[2]/div[2]/div/div[3]/a')\n",
    "    next_btn.click()\n",
    "driver.execute_script('window.scrollTo(0,document.body.scrollHeight)') # thực hiện kéo xuống xuối cuối trang \n",
    "Url_each_page=GetUrl() # Lấy thông tin tất cả từng trang\n",
    "Url_all=Url_all+Url_each_page \n",
    "print(Url_all)\n"
   ]
  },
  {
   "cell_type": "markdown",
   "metadata": {},
   "source": []
  },
  {
   "cell_type": "code",
   "execution_count": 11,
   "metadata": {},
   "outputs": [
    {
     "ename": "IndexError",
     "evalue": "list index out of range",
     "output_type": "error",
     "traceback": [
      "\u001b[1;31m---------------------------------------------------------------------------\u001b[0m",
      "\u001b[1;31mIndexError\u001b[0m                                Traceback (most recent call last)",
      "\u001b[1;32md:\\VISUAL\\python\\CrawlDataFromWeb\\testcrawl.ipynb Cell 5'\u001b[0m in \u001b[0;36m<module>\u001b[1;34m\u001b[0m\n\u001b[0;32m     <a href='vscode-notebook-cell:/d%3A/VISUAL/python/CrawlDataFromWeb/testcrawl.ipynb#ch0000005?line=43'>44</a>\u001b[0m gia\u001b[39m=\u001b[39mgia_tmp\u001b[39m.\u001b[39mreplace(\u001b[39m'\u001b[39m\u001b[39m₫\u001b[39m\u001b[39m'\u001b[39m,\u001b[39m'\u001b[39m\u001b[39m'\u001b[39m)\n\u001b[0;32m     <a href='vscode-notebook-cell:/d%3A/VISUAL/python/CrawlDataFromWeb/testcrawl.ipynb#ch0000005?line=44'>45</a>\u001b[0m gia\u001b[39m=\u001b[39m\u001b[39mint\u001b[39m(gia\u001b[39m.\u001b[39mreplace(\u001b[39m'\u001b[39m\u001b[39m.\u001b[39m\u001b[39m'\u001b[39m,\u001b[39m'\u001b[39m\u001b[39m'\u001b[39m))\n\u001b[1;32m---> <a href='vscode-notebook-cell:/d%3A/VISUAL/python/CrawlDataFromWeb/testcrawl.ipynb#ch0000005?line=47'>48</a>\u001b[0m danhgia\u001b[39m=\u001b[39mpage_source\u001b[39m.\u001b[39;49mfind_all(\u001b[39m'\u001b[39;49m\u001b[39mdiv\u001b[39;49m\u001b[39m'\u001b[39;49m,class_\u001b[39m=\u001b[39;49m\u001b[39m'\u001b[39;49m\u001b[39mpoint\u001b[39;49m\u001b[39m'\u001b[39;49m)[\u001b[39m0\u001b[39;49m]\u001b[39m.\u001b[39mget_text()\n\u001b[0;32m     <a href='vscode-notebook-cell:/d%3A/VISUAL/python/CrawlDataFromWeb/testcrawl.ipynb#ch0000005?line=48'>49</a>\u001b[0m danhgia\u001b[39m=\u001b[39mdanhgia\u001b[39m.\u001b[39msplit(\u001b[39m'\u001b[39m\u001b[39m/\u001b[39m\u001b[39m'\u001b[39m)\n\u001b[0;32m     <a href='vscode-notebook-cell:/d%3A/VISUAL/python/CrawlDataFromWeb/testcrawl.ipynb#ch0000005?line=49'>50</a>\u001b[0m danhgia\u001b[39m=\u001b[39m\u001b[39mfloat\u001b[39m(danhgia[\u001b[39m0\u001b[39m])\n",
      "\u001b[1;31mIndexError\u001b[0m: list index out of range"
     ]
    }
   ],
   "source": [
    "with open('Du_lieu_dt_FPT.csv','w',newline='',encoding='utf-8')as file_output:\n",
    "    header=['Name','Brand','Display','HDH','Camera sau','Camera trước','Chip','Ram','Rom','Sim','Battery','Charge','Gia','Danh gia','So Luong','Link','Tên cửa hàng']\n",
    "    writer =csv.DictWriter(file_output,fieldnames=header)\n",
    "    writer.writeheader()    \n",
    "    for url in Url_all:\n",
    "    \n",
    "        driver.get(url)\n",
    "        page_source=BeautifulSoup(driver.page_source,\"html.parser\")\n",
    "\n",
    "        div1=page_source.find('table',class_='st-pd-table')\n",
    "\n",
    "        try :\n",
    "            display=div1.find_all('td')[1].get_text()\n",
    "        except AttributeError                            :\n",
    "            continue\n",
    "\n",
    "        name=page_source.find_all('h1',class_='st-name')[0].get_text()\n",
    "        name=name.split(' ')\n",
    "        brand=name[0]\n",
    "        name2=name.pop(-1)\n",
    "        name=\" \".join(name)\n",
    "\n",
    "        ram=div1.find_all('td')[7].get_text()\n",
    "\n",
    "        rom=div1.find_all('td')[9].get_text()\n",
    "\n",
    "        cpu=div1.find_all('td')[11].get_text()\n",
    "\n",
    "        battery=div1.find_all('td')[15].get_text()\n",
    "\n",
    "        hdh=div1.find_all('td')[19].get_text()\n",
    "\n",
    "        sim=div1.find_all('td')[17].get_text()\n",
    "\n",
    "\n",
    "        camera_sau=div1.find_all('td')[3].get_text()\n",
    "        camera_truoc=div1.find_all('td')[5].get_text()\n",
    "\n",
    "\n",
    "        nameshop=\"Cửa hàng FPT\"\n",
    "\n",
    "\n",
    "        gia_tmp=page_source.find_all('div',class_='st-price-main')[0].get_text()\n",
    "        gia=gia_tmp.replace('₫','')\n",
    "        gia=int(gia.replace('.',''))\n",
    "\n",
    "\n",
    "        danhgia=page_source.find_all('div',class_='point')[0].get_text()\n",
    "        danhgia=danhgia.split('/')\n",
    "        danhgia=float(danhgia[0])\n",
    "\n",
    "\n",
    "        soluong=page_source.find_all('a',class_='re-link',id='re-rate')[0].get_text()\n",
    "        soluong=soluong.split(' ')\n",
    "        soluong=int(soluong[0])\n",
    "\n",
    "        link=url\n",
    "        writer.writerow({'Name':name,'Brand':brand,'Display':display,'HDH':hdh,'Camera sau':camera_sau,'Camera trước':camera_truoc,'Chip':cpu,'Ram':ram,'Rom':rom,'Sim':sim,'Battery':battery,'Charge':'','Gia':gia,'Danh gia':danhgia,'So Luong':soluong,'Link':link,'Tên cửa hàng':nameshop})\n",
    "        #print(soluong)\n",
    "\n",
    "        #print all infor\n",
    "\n",
    "        #print(name,brand,gia,danhgia,soluong,link,display,ram,rom,cpu,battery,hdh,sim,camera_sau,camera_truoc,nameshop)\n",
    "    "
   ]
  }
 ],
 "metadata": {
  "interpreter": {
   "hash": "bfb4883d108fc92ac768439090a2e92bb9a1f760a54beeecfd6762b5dcd70fe3"
  },
  "kernelspec": {
   "display_name": "Python 3.10.2 64-bit",
   "language": "python",
   "name": "python3"
  },
  "language_info": {
   "codemirror_mode": {
    "name": "ipython",
    "version": 3
   },
   "file_extension": ".py",
   "mimetype": "text/x-python",
   "name": "python",
   "nbconvert_exporter": "python",
   "pygments_lexer": "ipython3",
   "version": "3.10.2"
  },
  "orig_nbformat": 4
 },
 "nbformat": 4,
 "nbformat_minor": 2
}
