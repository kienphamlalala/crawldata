{
 "cells": [
  {
   "cell_type": "code",
   "execution_count": 6,
   "metadata": {},
   "outputs": [],
   "source": [
    "from selenium import webdriver\n",
    "from bs4 import BeautifulSoup \n",
    "import pandas as pd\n",
    "import csv\n",
    "import requests\n",
    "\n",
    "# Open web automaticly\n",
    "driver=webdriver.Edge()\n",
    "url='https://fptshop.com.vn/dien-thoai' #Lấy link để mở web tự động\n",
    "driver.get(url)\n",
    "\n"
   ]
  },
  {
   "cell_type": "code",
   "execution_count": 7,
   "metadata": {},
   "outputs": [],
   "source": [
    "def GetUrl():\n",
    "    page_s=BeautifulSoup(driver.page_source,\"html.parser\") #dùng bs4 tải toàn bộ HTML document lên chương trình\n",
    "\n",
    "    tel_infors=page_s.find('div',class_='cdt-product-wrapper m-b-20')\n",
    "\n",
    "    all_prod=[]\n",
    "\n",
    "    for tel_infor in tel_infors:\n",
    "        \n",
    "        tel_ID=tel_infor.find('a').get('href') # lấy link đuôi trong thành phần có tên là href\n",
    "        tel_If_url=''\n",
    "        if tel_ID !=None and tel_If_url not in all_prod:\n",
    "            tel_If_url='https://fptshop.com.vn'+tel_ID\n",
    "            all_prod.append(tel_If_url)\n",
    "        set(all_prod)\n",
    "    return all_prod\n",
    "    \n"
   ]
  },
  {
   "cell_type": "code",
   "execution_count": 8,
   "metadata": {},
   "outputs": [
    {
     "name": "stderr",
     "output_type": "stream",
     "text": [
      "C:\\Users\\Admin\\AppData\\Local\\Temp\\ipykernel_21168\\2823117129.py:6: DeprecationWarning: find_element_by_xpath is deprecated. Please use find_element(by=By.XPATH, value=xpath) instead\n",
      "  next_btn=driver.find_element_by_xpath('//*[@id=\"root\"]/main/div/div[3]/div[2]/div[2]/div/div[3]/a')\n"
     ]
    },
    {
     "name": "stdout",
     "output_type": "stream",
     "text": [
      "27\n"
     ]
    }
   ],
   "source": [
    "\n",
    "numPg=3 \n",
    "Url_all=[]\n",
    "  \n",
    "for i in range(numPg):\n",
    "    driver.execute_script('window.scrollTo(0,document.body.scrollHeight)') # thực hiện kéo xuống xuối cuối trang \n",
    "    next_btn=driver.find_element_by_xpath('//*[@id=\"root\"]/main/div/div[3]/div[2]/div[2]/div/div[3]/a')\n",
    "    next_btn.click()\n",
    "driver.execute_script('window.scrollTo(0,document.body.scrollHeight)') # thực hiện kéo xuống xuối cuối trang \n",
    "Url_each_page=GetUrl() # Lấy thông tin tất cả từng trang\n",
    "Url_all=Url_all+Url_each_page \n",
    "print(len(Url_all))\n"
   ]
  },
  {
   "cell_type": "markdown",
   "metadata": {},
   "source": []
  },
  {
   "cell_type": "code",
   "execution_count": 9,
   "metadata": {},
   "outputs": [
    {
     "name": "stdout",
     "output_type": "stream",
     "text": [
      "iPhone 13 Pro Max 128GB iPhone 30990000 5.0 73 https://fptshop.com.vn/dien-thoai/iphone-13-pro-max?dung-luong=128gb 6.7 inch, OLED, Super Retina XDR, 2778 x 1284 Pixels 6 GB 128 GB Apple A15 Bionic 4352 mAh iOS 15 1 - 1 eSIM, 1 Nano SIM  12.0 MP + 12.0 MP + 12.0 MP  12.0 MP  Cửa hàng FPT\n",
      "OPPO Reno7 Z 5G 8GB - 128GB OPPO 10490000 5.0 47 https://fptshop.com.vn/dien-thoai/oppo-reno7-z Chính: 6.43 inch, Chính: AMOLED, FHD+, 1080 x 2400 Pixels 8 GB 128 GB Snapdragon 695 5G 4500 mAh Android 11 (ColorOS 12) 2 - 2 Nano SIM  64.0 MP + 2.0 MP + 2.0 MP  16.0 MP  Cửa hàng FPT\n",
      "Samsung Galaxy S22 Ultra 5G 128GB Samsung 28990000 5.0 59 https://fptshop.com.vn/dien-thoai/samsung-galaxy-s22-ultra?dung-luong=128-gb 6.8 inch, Dynamic AMOLED 2X, QHD+, 1440 x 3088 Pixels 8 GB 128 GB Snapdragon 8 Gen 1 2 - 2 Nano SIM hoặc 1 eSIM, 1 Nano SIM  Việt Nam  Android 12 108.0 MP + 12.0 MP + 10.0 MP + 10.0 MP  40.0 MP  Cửa hàng FPT\n",
      "iPhone 11 64GB iPhone 12999000 4.0 179 https://fptshop.com.vn/dien-thoai/iphone-11-64gb 6.1 inch, IPS LCD, Liquid Retina HD, 828 x 1792 Pixels 4 GB 64 GB Apple A13 Bionic 3110 mAh iOS 14 2 - 1 eSIM, 1 Nano SIM  12.0 MP + 12.0 MP  12.0 MP  Cửa hàng FPT\n",
      "OPPO Reno7 8GB-128GB OPPO 8490000 5.0 50 https://fptshop.com.vn/dien-thoai/oppo-reno7?ho-tro-mang=4g Chính: 6.4 inch, Chính: AMOLED, FHD+, 1080 x 2400 Pixels 8 GB 128 GB Snapdragon 680 4500 mAh Android 12 (ColorOS 12.1) 2 - 2 Nano SIM  64.0 MP + 2.0 MP + 2.0 MP  32.0 MP  Cửa hàng FPT\n",
      "Xiaomi 11 Lite 5G NE 8GB - 256GB Xiaomi 8490000 4.0 28 https://fptshop.com.vn/dien-thoai/xiaomi-11-lite-5g-ne?dung-luong=8gb-256gb 6.55 inch, AMOLED, FHD+, 1080 x 2400 Pixels 8 GB 256 GB Snapdragon 778G 4250 mAh Android 11 2 - 1 Nano SIM  64.0 MP + 8.0 MP + 5.0 MP  20.0 MP  Cửa hàng FPT\n",
      "Nokia G21 6GB-128GB\t Nokia 4090000 5.0 1 https://fptshop.com.vn/dien-thoai/nokia-g21 6.5 inch, IPS, HD+, 720 x 1600 Pixels 6 GB 128 GB Unisoc T606 2 - 2 Nano SIM  Trung Quốc  Android 11 50.0 MP + 2.0 MP + 2.0 MP  8.0 MP  Cửa hàng FPT\n",
      "Xiaomi Redmi Note 11S 6GB - 128GB Xiaomi 5490000 5.0 47 https://fptshop.com.vn/dien-thoai/xiaomi-redmi-note-11s?dung-luong=6gb-128gb 6.43 inch, AMOLED, FHD+, 1080 x 2400 Pixels 6 GB 128 GB MediaTek Helio G96 5000 mAh Android 11 2 - 2 Nano SIM  108.0 MP + 8.0 MP + 2.0 MP + 2.0 MP  16.0 MP  Cửa hàng FPT\n",
      "iPhone 12 64GB iPhone 17499000 5.0 86 https://fptshop.com.vn/dien-thoai/iphone-12?dung-luong=64gb 6.1 inch, OLED, Super Retina XDR, 2532 x 1170 Pixels 4 GB 64 GB Apple A14 Bionic 2 - 1 eSIM, 1 Nano SIM  Trung Quốc  iOS 14 12.0 MP + 12.0 MP  12.0 MP  Cửa hàng FPT\n",
      "Samsung Galaxy Z Fold3 5G 256GB Samsung 33990000 5.0 51 https://fptshop.com.vn/dien-thoai/samsung-galaxy-z-fold3?dung-luong=256-gb Phụ: 6.2 inch, Chính: 7.6 inch, Dynamic AMOLED 2X, HD+, 1768 x 2208 Pixels 12 GB 256 GB Snapdragon 888 2 - 2 Nano SIM hoặc 1 eSIM, 1 Nano SIM  Trung Quốc / Việt Nam  Android 11 12.0 MP + 12.0 MP + 12.0 MP  10.0 MP  Cửa hàng FPT\n",
      "Samsung Galaxy Z Flip3 5G 128GB Samsung 18990000 5.0 53 https://fptshop.com.vn/dien-thoai/samsung-galaxy-z-flip-3?dung-luong=128-gb Chính: 6.7 inch, Chính: Dynamic AMOLED, FHD+, 1080 x 2636 Pixels 8 GB 128 GB Snapdragon 888 1 - 1 eSIM, 1 Nano SIM  Trung Quốc / Việt Nam  Android 11 12.0 MP + 12.0 MP  10.0 MP  Cửa hàng FPT\n",
      "Xiaomi 11T Pro 5G 12GB - 256GB Xiaomi 12990000 5.0 49 https://fptshop.com.vn/dien-thoai/xiaomi-11t-pro 6.67 inch, AMOLED, FHD+, 1080 x 2400 Pixels 12 GB 256 GB Snapdragon 888 2 - 1 Nano SIM  Trung Quốc  Android 11 108.0 MP + 8.0 MP + 5.0 MP  16.0 MP  Cửa hàng FPT\n",
      "Vivo Y21 4GB+1GB - 64GB Vivo 3990000 5.0 50 https://fptshop.com.vn/dien-thoai/vivo-y21 6.51 inch, IPS LCD, HD+, 720 x 1600 Pixels 4 GB + 1 GB 64 GB Helio P35 5000 mAh Android 11 2 - 2 Nano SIM  13.0 MP + 2.0 MP  8.0 MP  Cửa hàng FPT\n",
      "Vivo Y15s 3GB - 32GB Vivo 3190000 5.0 42 https://fptshop.com.vn/dien-thoai/vivo-y15s 6.51 inch, IPS LCD, HD+, 720 x 1600 Pixels 3 GB 32 GB Helio P35 5000 mAh Android 11 2 - 2 Nano SIM  13.0 MP + 2.0 MP  8.0 MP  Cửa hàng FPT\n",
      "Samsung Galaxy A22 5G Samsung 5290000 3.0 9 https://fptshop.com.vn/dien-thoai/samsung-galaxy-a22?ho-tro-mang=5g 6.6 inch, TFT LCD, FHD+, 1080 x 2400 Pixels 6 GB 128 GB MediaTek Dimensity 700 5000 mAh Android 11 2 - 2 Nano SIM  48.0 MP + 5.0 MP + 2.0 MP  8.0 MP  Cửa hàng FPT\n",
      "TECNO POVA 2 4GB-64GB TECNO 3490000 5.0 54 https://fptshop.com.vn/dien-thoai/tecno-pova2?dung-luong=64gb 6.9 inch, IPS LCD, FHD+, 1080 x 2460 Pixels 4 GB 64 GB Helio G85 7000 mAh Android 11 2 - 2 Nano SIM  48.0 MP + 2.0 MP + 2.0 MP + 2.0 MP  8.0 MP  Cửa hàng FPT\n",
      "TECNO POP 5 2GB-32GB TECNO 2390000 5.0 1 https://fptshop.com.vn/dien-thoai/tecno-pop-5 6.5 inch, IPS LCD, HD+, 720 x 1600 Pixels 2 GB 32 MB Spreadtrum SC9863A 2 - 2 Nano SIM  Trung Quốc  Android 11 8.0 MP  5.0 MP  Cửa hàng FPT\n",
      "Realme C35 4GB-128GB Realme 4690000 5.0 45 https://fptshop.com.vn/dien-thoai/realme-c35?dung-luong=128gb Chính: 6.58 inch, Chính: IPS LCD, FHD+, 1080 x 2408 Pixels 4 GB 128 GB Unisoc T616 2 - 2 Nano SIM  Trung Quốc  Android 11 50.0 MP + 2.0 MP + 2.0 MP  8.0 MP  Cửa hàng FPT\n",
      "Nokia C30 3GB-32GB Nokia 2990000 5.0 5 https://fptshop.com.vn/dien-thoai/nokia-c30 6.82 inch, IPS LCD, HD+, 720 x 1600 Pixels 3 GB 32 GB Spreadtrum SC9863A 2 - 2 Nano SIM  Trung Quốc  Android 11 13.0 MP  5.0 MP  Cửa hàng FPT\n",
      "Vivo V23e 8GB - 128GB Vivo 7490000 5.0 2 https://fptshop.com.vn/dien-thoai/vivo-v23e 6.44 inch, AMOLED, FHD+, 1080 x 2400 Pixels 8 GB + 4 GB 128 GB MediaTek Helio G96 4050 mAh Android 11 2 - 2 Nano SIM  64.0 MP + 8.0 MP + 2.0 MP  50.0 MP  Cửa hàng FPT\n",
      "Samsung Galaxy A12 4GB-128GB Samsung 3690000 3.0 11 https://fptshop.com.vn/dien-thoai/samsung-galaxy-a12 6.5 inch, TFT LCD, HD+, 720 x 1600 Pixels 4 GB 128 GB Helio G35/Exynos 850 2 - 2 Nano SIM  Việt Nam / Trung Quốc  Android 11 48.0 MP + 5.0 MP + 2.0 MP + 2.0 MP  8.0 MP  Cửa hàng FPT\n",
      "Xiaomi Redmi 9A 2GB-32GB Xiaomi 2390000 4.0 39 https://fptshop.com.vn/dien-thoai/xiaomi-redmi-9a-2gb-32gb 6.53 inch, IPS LCD, HD+, 720 x 1600 Pixels 2 GB 32 GB Helio G25 5000 mAh Android 10 2 - 2 Nano SIM  13.0 MP  5.0 MP  Cửa hàng FPT\n",
      "Xiaomi Redmi 10C 4GB - 128GB Xiaomi 3690000 5.0 1 https://fptshop.com.vn/dien-thoai/xiaomi-redmi-10c 6.71 inch, IPS, HD+, 720 x 1560 Pixels 4 GB 128 GB Snapdragon 680 5000 mAh Android 11 2 - 2 Nano SIM  50.0 MP + 2.0 MP  5.0 MP  Cửa hàng FPT\n",
      "Xiaomi Redmi Note 11 Pro 8GB - 128GB Xiaomi 6990000 5.0 47 https://fptshop.com.vn/dien-thoai/xiaomi-redmi-note-11-pro?ho-tro-mang=4g 6.67 inch, AMOLED, FHD+, 1080 x 2400 Pixels 8 GB MediaTek Helio G96 Mali-G57 MC2 2 - 1 Nano SIM  Trung Quốc  Android 11 108.0 MP + 8.0 MP + 2.0 MP + 2.0 MP  16.0 MP  Cửa hàng FPT\n",
      "Xiaomi 11T 8GB - 128GB Xiaomi 9490000 5.0 10 https://fptshop.com.vn/dien-thoai/xiaomi-11t 6.67 inch, AMOLED, FHD+, 1080 x 2400 Pixels 8 GB 128 GB MediaTek Dimensity 1200U 2 - 1 Nano SIM  Trung Quốc  Android 11 108.0 MP + 8.0 MP + 5.0 MP  16.0 MP  Cửa hàng FPT\n",
      "OPPO A95 8GB-128GB OPPO 6490000 5.0 45 https://fptshop.com.vn/dien-thoai/oppo-a95 6.43 inch, AMOLED, FHD+, 1080 x 2400 Pixels 8 GB 128 GB Snapdragon 662 5000 mAh Android 11 2 - 2 Nano SIM  48.0 MP + 2.0 MP + 2.0 MP  16.0 MP  Cửa hàng FPT\n",
      "OPPO A76 6GB-128GB OPPO 5990000 5.0 48 https://fptshop.com.vn/dien-thoai/oppo-a76 6.56 inch, IPS LCD, HD+, 720 x 1612 Pixels 6 GB 128 GB Snapdragon 680 5000 mAh Android 11 2 - 2 Nano SIM  13.0 MP + 2.0 MP  8.0 MP  Cửa hàng FPT\n"
     ]
    }
   ],
   "source": [
    "with open('test.csv','a',newline='',encoding='utf-8')as file_output:\n",
    "    \n",
    "    writer=csv.writer(file_output)\n",
    "    for url in Url_all:\n",
    "    \n",
    "        driver.get(url)\n",
    "        page_source=BeautifulSoup(driver.page_source,\"html.parser\")\n",
    "\n",
    "        div1=page_source.find('table',class_='st-pd-table')\n",
    "\n",
    "        try :\n",
    "            display=div1.find_all('td')[1].get_text()\n",
    "        except AttributeError                            :\n",
    "            continue\n",
    "\n",
    "        name=page_source.find_all('h1',class_='st-name')[0].get_text()\n",
    "        name=name.split(' ')\n",
    "        brand=name[0]\n",
    "        name2=name.pop(-1)\n",
    "        name=\" \".join(name)\n",
    "\n",
    "        ram=div1.find_all('td')[7].get_text()\n",
    "\n",
    "        rom=div1.find_all('td')[9].get_text()\n",
    "\n",
    "        cpu=div1.find_all('td')[11].get_text()\n",
    "        try:\n",
    "            battery=div1.find_all('td')[15].get_text()\n",
    "        except IndexError:\n",
    "            continue\n",
    "        try:\n",
    "            hdh=div1.find_all('td')[19].get_text()\n",
    "        except IndexError:\n",
    "            continue\n",
    "\n",
    "        sim=div1.find_all('td')[17].get_text()\n",
    "\n",
    "\n",
    "        camera_sau=div1.find_all('td')[3].get_text()\n",
    "        camera_truoc=div1.find_all('td')[5].get_text()\n",
    "\n",
    "\n",
    "        nameshop=\"Cửa hàng FPT\"\n",
    "\n",
    "\n",
    "        gia_tmp=page_source.find_all('div',class_='st-price-main')[0].get_text()\n",
    "        gia=gia_tmp.replace('₫','')\n",
    "        gia=int(gia.replace('.',''))\n",
    "\n",
    "        try :\n",
    "\n",
    "            danhgia=page_source.find_all('div',class_='point')[0].get_text()\n",
    "            danhgia=danhgia.split('/')\n",
    "            danhgia=float(danhgia[0])\n",
    "        except IndexError :\n",
    "            continue\n",
    "\n",
    "\n",
    "        soluong=page_source.find_all('a',class_='re-link',id='re-rate')[0].get_text()\n",
    "        soluong=soluong.split(' ')\n",
    "        soluong=int(soluong[0])\n",
    "\n",
    "        link=url\n",
    "        \n",
    "        print(name,brand,gia,danhgia,soluong,link,display,ram,rom,cpu,battery,hdh,sim,camera_sau,camera_truoc,nameshop)\n",
    "        writer.writerow([name,brand,display,hdh,camera_sau,camera_truoc,cpu,ram,rom,sim,battery,gia,danhgia,soluong,link,nameshop])\n",
    "        \n",
    "    "
   ]
  }
 ],
 "metadata": {
  "interpreter": {
   "hash": "a42ccb73e7d9bfdf27e036f1d2b8b681e55fc0743cc5586bc2474d4a60f4b886"
  },
  "kernelspec": {
   "display_name": "Python 3.10.2 64-bit",
   "language": "python",
   "name": "python3"
  },
  "language_info": {
   "codemirror_mode": {
    "name": "ipython",
    "version": 3
   },
   "file_extension": ".py",
   "mimetype": "text/x-python",
   "name": "python",
   "nbconvert_exporter": "python",
   "pygments_lexer": "ipython3",
   "version": "3.10.2"
  },
  "orig_nbformat": 4
 },
 "nbformat": 4,
 "nbformat_minor": 2
}
