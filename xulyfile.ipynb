{
 "cells": [
  {
   "cell_type": "code",
   "execution_count": 84,
   "metadata": {},
   "outputs": [],
   "source": [
    "import pandas as pd\n",
    "from matplotlib.cm import coolwarm\n",
    "import numpy as np\n",
    "df=pd.read_csv('Du_lieu_dt_4.csv')\n",
    "df['Gia']=df['Gia'].replace('[*₫Giá dự kiến: .]','',regex=True)\n",
    "df['Gia']=pd.to_numeric(df['Gia']).astype(int)\n",
    "df=df.dropna(axis=0,how='any')\n"
   ]
  },
  {
   "cell_type": "markdown",
   "metadata": {},
   "source": [
    "Task: Calculate the revenue of each manufacturer, draw a business chart, which products have sold best since launch"
   ]
  },
  {
   "cell_type": "code",
   "execution_count": 85,
   "metadata": {},
   "outputs": [
    {
     "name": "stdout",
     "output_type": "stream",
     "text": [
      "Product has most sales is iPhone with 41631410000 sales\n"
     ]
    },
    {
     "data": {
      "image/png": "[encoded data removed]",
      "text/plain": [
       "<Figure size 432x288 with 1 Axes>"
      ]
     },
     "metadata": {
      "needs_background": "light"
     },
     "output_type": "display_data"
    }
   ],
   "source": [
    "import numpy as np\n",
    "import matplotlib.pyplot as plt\n",
    "df1=df\n",
    "df1['Sales']=df['Gia']*df['So Luong']\n",
    "df1.head()\n",
    "sale_values=df1.groupby('Brand').sum()['Sales']\n",
    "sale_values\n",
    "for i,y in sale_values.items():\n",
    "    plt.bar(i,y)\n",
    "    plt.xlabel('Brand')\n",
    "    plt.ylabel('Sales')\n",
    "    plt.title('Sales of each brand')\n",
    "    if y==sale_values.max():\n",
    "        print('Product has most sales is',i,'with',y,'sales')\n",
    "\n"
   ]
  },
  {
   "cell_type": "markdown",
   "metadata": {},
   "source": [
    "Task: Find the best-selling and worth-buying phones in the price range of 8 million VND, in which phone sell the most quantity"
   ]
  },
  {
   "cell_type": "code",
   "execution_count": 86,
   "metadata": {},
   "outputs": [
    {
     "data": {
      "text/html": [
       "<div>\n",
       "<style scoped>\n",
       "    .dataframe tbody tr th:only-of-type {\n",
       "        vertical-align: middle;\n",
       "    }\n",
       "\n",
       "    .dataframe tbody tr th {\n",
       "        vertical-align: top;\n",
       "    }\n",
       "\n",
       "    .dataframe thead th {\n",
       "        text-align: right;\n",
       "    }\n",
       "</style>\n",
       "<table border=\"1\" class=\"dataframe\">\n",
       "  <thead>\n",
       "    <tr style=\"text-align: right;\">\n",
       "      <th></th>\n",
       "      <th>Name</th>\n",
       "      <th>Brand</th>\n",
       "      <th>Gia</th>\n",
       "      <th>Danh gia</th>\n",
       "      <th>So Luong</th>\n",
       "    </tr>\n",
       "  </thead>\n",
       "  <tbody>\n",
       "    <tr>\n",
       "      <th>52</th>\n",
       "      <td>Điện thoại OPPO A95</td>\n",
       "      <td>OPPO</td>\n",
       "      <td>6990000</td>\n",
       "      <td>4.1</td>\n",
       "      <td>260</td>\n",
       "    </tr>\n",
       "    <tr>\n",
       "      <th>55</th>\n",
       "      <td>Điện thoại Xiaomi Redmi Note 10S 6GB</td>\n",
       "      <td>Xiaomi</td>\n",
       "      <td>5990000</td>\n",
       "      <td>4.1</td>\n",
       "      <td>120</td>\n",
       "    </tr>\n",
       "    <tr>\n",
       "      <th>56</th>\n",
       "      <td>Điện thoại OPPO A76</td>\n",
       "      <td>OPPO</td>\n",
       "      <td>5990000</td>\n",
       "      <td>4.5</td>\n",
       "      <td>38</td>\n",
       "    </tr>\n",
       "    <tr>\n",
       "      <th>53</th>\n",
       "      <td>Điện thoại Vivo Y33s</td>\n",
       "      <td>Vivo</td>\n",
       "      <td>6490000</td>\n",
       "      <td>4.1</td>\n",
       "      <td>27</td>\n",
       "    </tr>\n",
       "  </tbody>\n",
       "</table>\n",
       "</div>"
      ],
      "text/plain": [
       "                                    Name   Brand      Gia  Danh gia  So Luong\n",
       "52                   Điện thoại OPPO A95    OPPO  6990000       4.1       260\n",
       "55  Điện thoại Xiaomi Redmi Note 10S 6GB  Xiaomi  5990000       4.1       120\n",
       "56                   Điện thoại OPPO A76    OPPO  5990000       4.5        38\n",
       "53                  Điện thoại Vivo Y33s    Vivo  6490000       4.1        27"
      ]
     },
     "execution_count": 86,
     "metadata": {},
     "output_type": "execute_result"
    }
   ],
   "source": [
    "df2=df\n",
    "df2_tmp=df2.loc[(df2['Gia']<8000000)&(df2['Danh gia']>=4)&(df2['Gia']>5000000)]\n",
    "most_brn=df2_tmp.loc[:,['Name','Brand','Gia','Danh gia','So Luong']]\n",
    "most_brn.sort_values(by='So Luong',ascending=False,inplace=True)\n",
    "most_brn\n",
    "\n",
    "\n"
   ]
  },
  {
   "cell_type": "code",
   "execution_count": 87,
   "metadata": {},
   "outputs": [
    {
     "name": "stdout",
     "output_type": "stream",
     "text": [
      "Product has most quanity is Điện thoại OPPO A95 with 260 sales\n"
     ]
    },
    {
     "data": {
      "image/png": "[encoded data removed]",
      "text/plain": [
       "<Figure size 432x288 with 1 Axes>"
      ]
     },
     "metadata": {
      "needs_background": "light"
     },
     "output_type": "display_data"
    }
   ],
   "source": [
    "tm_mst=most_brn.groupby('Name').max()['So Luong'].sort_values(ascending=False)\n",
    "\n",
    "for i, y in tm_mst.items():\n",
    "    plt.barh(i,y)\n",
    "    plt.ylabel('Name')\n",
    "    plt.xlabel('Sales')\n",
    "    plt.title('Best selling phone in the price range of 8 million VND')\n",
    "    if y==tm_mst.max():\n",
    "        print('Product has most quanity is',i,'with',y,'sales')"
   ]
  },
  {
   "cell_type": "markdown",
   "metadata": {},
   "source": [
    "Task: Find all phones with Snapdragon chip, Comment that products using this chip are appreciated?"
   ]
  },
  {
   "cell_type": "code",
   "execution_count": 88,
   "metadata": {},
   "outputs": [],
   "source": [
    "def chip_snd(st1):\n",
    "    st1=st1.split(' ')[0]\n",
    "    return st1"
   ]
  },
  {
   "cell_type": "code",
   "execution_count": 99,
   "metadata": {},
   "outputs": [
    {
     "data": {
      "text/html": [
       "<div>\n",
       "<style scoped>\n",
       "    .dataframe tbody tr th:only-of-type {\n",
       "        vertical-align: middle;\n",
       "    }\n",
       "\n",
       "    .dataframe tbody tr th {\n",
       "        vertical-align: top;\n",
       "    }\n",
       "\n",
       "    .dataframe thead th {\n",
       "        text-align: right;\n",
       "    }\n",
       "</style>\n",
       "<table border=\"1\" class=\"dataframe\">\n",
       "  <thead>\n",
       "    <tr style=\"text-align: right;\">\n",
       "      <th></th>\n",
       "      <th>Chip</th>\n",
       "      <th>Danh gia</th>\n",
       "    </tr>\n",
       "  </thead>\n",
       "  <tbody>\n",
       "    <tr>\n",
       "      <th>0</th>\n",
       "      <td>Snapdragon 480 8 nhân 5G</td>\n",
       "      <td>3.1</td>\n",
       "    </tr>\n",
       "    <tr>\n",
       "      <th>1</th>\n",
       "      <td>Snapdragon 662</td>\n",
       "      <td>4.1</td>\n",
       "    </tr>\n",
       "    <tr>\n",
       "      <th>2</th>\n",
       "      <td>Snapdragon 680 8 nhân</td>\n",
       "      <td>4.2</td>\n",
       "    </tr>\n",
       "    <tr>\n",
       "      <th>3</th>\n",
       "      <td>Snapdragon 695 5G 8 nhân</td>\n",
       "      <td>3.8</td>\n",
       "    </tr>\n",
       "    <tr>\n",
       "      <th>4</th>\n",
       "      <td>Snapdragon 720G</td>\n",
       "      <td>3.6</td>\n",
       "    </tr>\n",
       "    <tr>\n",
       "      <th>5</th>\n",
       "      <td>Snapdragon 730</td>\n",
       "      <td>3.2</td>\n",
       "    </tr>\n",
       "    <tr>\n",
       "      <th>6</th>\n",
       "      <td>Snapdragon 732G</td>\n",
       "      <td>3.2</td>\n",
       "    </tr>\n",
       "    <tr>\n",
       "      <th>7</th>\n",
       "      <td>Snapdragon 765G</td>\n",
       "      <td>3.5</td>\n",
       "    </tr>\n",
       "    <tr>\n",
       "      <th>8</th>\n",
       "      <td>Snapdragon 778G 5G 8 nhân</td>\n",
       "      <td>3.7</td>\n",
       "    </tr>\n",
       "    <tr>\n",
       "      <th>9</th>\n",
       "      <td>Snapdragon 8 Gen 1 8 nhân</td>\n",
       "      <td>4.4</td>\n",
       "    </tr>\n",
       "    <tr>\n",
       "      <th>10</th>\n",
       "      <td>Snapdragon 865</td>\n",
       "      <td>3.5</td>\n",
       "    </tr>\n",
       "    <tr>\n",
       "      <th>11</th>\n",
       "      <td>Snapdragon 888</td>\n",
       "      <td>4.0</td>\n",
       "    </tr>\n",
       "  </tbody>\n",
       "</table>\n",
       "</div>"
      ],
      "text/plain": [
       "                         Chip  Danh gia\n",
       "0    Snapdragon 480 8 nhân 5G       3.1\n",
       "1              Snapdragon 662       4.1\n",
       "2       Snapdragon 680 8 nhân       4.2\n",
       "3    Snapdragon 695 5G 8 nhân       3.8\n",
       "4             Snapdragon 720G       3.6\n",
       "5              Snapdragon 730       3.2\n",
       "6             Snapdragon 732G       3.2\n",
       "7             Snapdragon 765G       3.5\n",
       "8   Snapdragon 778G 5G 8 nhân       3.7\n",
       "9   Snapdragon 8 Gen 1 8 nhân       4.4\n",
       "10             Snapdragon 865       3.5\n",
       "11             Snapdragon 888       4.0"
      ]
     },
     "execution_count": 99,
     "metadata": {},
     "output_type": "execute_result"
    }
   ],
   "source": [
    "\n",
    "#df2_tmp=df2.loc[(df2['Gia']<8000000)&(df2['Danh gia']>=4)&(df2['Gia']>5000000)]\n",
    "\n",
    "df.head()\n",
    "df3=df.loc[:,['Name','Chip','Danh gia']]\n",
    "df3['Chip Sn']=df3['Chip'].apply(chip_snd)\n",
    "snd_tmp=df3.loc[(df3['Chip Sn']=='Snapdragon')]\n",
    "snd_tmp2=snd_tmp.groupby('Chip')\n",
    "snd_tmp2_avg=snd_tmp2.mean()\n",
    "snd_tmp2_avg=round(snd_tmp2_avg.reset_index(),1)\n",
    "snd_tmp2_avg\n",
    "    \n",
    "\n",
    "\n"
   ]
  },
  {
   "cell_type": "code",
   "execution_count": 108,
   "metadata": {},
   "outputs": [
    {
     "data": {
      "image/png": "[encoded data removed]",
      "text/plain": [
       "<Figure size 432x288 with 1 Axes>"
      ]
     },
     "metadata": {
      "needs_background": "light"
     },
     "output_type": "display_data"
    }
   ],
   "source": [
    "snd_tmp2_avg.plot(x='Chip',y='Danh gia',kind='barh')\n",
    "plt.xlabel('Đánh giá')\n",
    "\n",
    "plt.grid()\n",
    "plt.show()"
   ]
  }
 ],
 "metadata": {
  "interpreter": {
   "hash": "bfb4883d108fc92ac768439090a2e92bb9a1f760a54beeecfd6762b5dcd70fe3"
  },
  "kernelspec": {
   "display_name": "Python 3.10.2 64-bit",
   "language": "python",
   "name": "python3"
  },
  "language_info": {
   "codemirror_mode": {
    "name": "ipython",
    "version": 3
   },
   "file_extension": ".py",
   "mimetype": "text/x-python",
   "name": "python",
   "nbconvert_exporter": "python",
   "pygments_lexer": "ipython3",
   "version": "3.10.2"
  },
  "orig_nbformat": 4
 },
 "nbformat": 4,
 "nbformat_minor": 2
}
