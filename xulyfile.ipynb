{
 "cells": [
  {
   "cell_type": "code",
   "execution_count": 23,
   "metadata": {},
   "outputs": [
    {
     "name": "stderr",
     "output_type": "stream",
     "text": [
      "C:\\Users\\Admin\\AppData\\Local\\Temp\\ipykernel_22668\\2657252641.py:11: DeprecationWarning: find_element_by_xpath is deprecated. Please use find_element(by=By.XPATH, value=xpath) instead\n",
      "  dt=driver.find_element_by_xpath('/html/body/header/div[2]/div/ul/li[1]/a/span')\n"
     ]
    }
   ],
   "source": [
    "from selenium import webdriver\n",
    "from selenium.webdriver.common.keys import Keys\n",
    "from selenium.webdriver.support.ui import Select\n",
    "from bs4 import BeautifulSoup \n",
    "import requests\n",
    "from time import sleep\n",
    "# Open web automaticly\n",
    "driver=webdriver.Edge()\n",
    "url='https://www.thegioididong.com' #Lấy link để mở web tự động\n",
    "driver.get(url)\n",
    "dt=driver.find_element_by_xpath('/html/body/header/div[2]/div/ul/li[1]/a/span') \n",
    "dt.click()\n",
    "\n",
    "\n",
    "#Scrape data of products from soucre web \n",
    "def GetUrl():\n",
    "    page_s=BeautifulSoup(driver.page_source) #dùng bs4 tải toàn bộ HTML document lên chương trình\n",
    "    tel_infors=page_s.find_all('a',class_='main-contain') # tìm đúng element trong source để lấy chính xác id, ở đây sử dụng class và  task a\n",
    "\n",
    "    all_prod=[]\n",
    "    for tel_infor in tel_infors:\n",
    "        tel_ID=tel_infor.get('href') # lấy link đuôi trong thành phần có tên là href\n",
    "        tel_If_url='https://www.thegioididong.com'+tel_ID\n",
    "        if tel_If_url not in all_prod:  #để tránh lặp lại gá trị vì trong web có các thành phần nằm chồng lên nhau và giống nhau\n",
    "            all_prod.append(tel_If_url)\n",
    "        set(all_prod)\n",
    "    return all_prod\n",
    "#print(GetUrl(),'\\n==============================================================================')\n",
    "\n"
   ]
  },
  {
   "cell_type": "code",
   "execution_count": 24,
   "metadata": {},
   "outputs": [
    {
     "name": "stderr",
     "output_type": "stream",
     "text": [
      "C:\\Users\\Admin\\AppData\\Local\\Temp\\ipykernel_22668\\1854830858.py:8: DeprecationWarning: find_element_by_xpath is deprecated. Please use find_element(by=By.XPATH, value=xpath) instead\n",
      "  next_btn=driver.find_element_by_xpath('//*[@id=\"categoryPage\"]/div[3]/div[2]/a')\n"
     ]
    },
    {
     "name": "stdout",
     "output_type": "stream",
     "text": [
      "['https://www.thegioididong.com/dtdd/samsung-galaxy-s22-ultra?src=osp', 'https://www.thegioididong.com/dtdd/iphone-11?src=osp', 'https://www.thegioididong.com/dtdd/oppo-reno7-z?src=osp', 'https://www.thegioididong.com/dtdd/realme-c35?src=osp', 'https://www.thegioididong.com/dtdd/xiaomi-11t?src=osp', 'https://www.thegioididong.com/dtdd/samsung-galaxy-a03?src=osp', 'https://www.thegioididong.com/dtdd/xiaomi-redmi-note-11-pro-4g?src=osp', 'https://www.thegioididong.com/dtdd/iphone-13-pro-max?src=osp', 'https://www.thegioididong.com/dtdd/samsung-galaxy-a52s-5g?src=osp', 'https://www.thegioididong.com/dtdd/vivo-y15s-2021?src=osp', 'https://www.thegioididong.com/dtdd/samsung-galaxy-z-fold-3?src=osp', 'https://www.thegioididong.com/dtdd/iphone-13-pro-max-xanh-la?src=osp', 'https://www.thegioididong.com/dtdd/iphone-12-pro-max-256gb?src=osp', 'https://www.thegioididong.com/dtdd/iphone-13-pro?src=osp', 'https://www.thegioididong.com/dtdd/iphone-13-pro-xanh-la?src=osp', 'https://www.thegioididong.com/dtdd/samsung-galaxy-s22-plus?src=osp', 'https://www.thegioididong.com/dtdd/samsung-galaxy-s21-ultra?src=osp', 'https://www.thegioididong.com/dtdd/iphone-12-pro?src=osp', 'https://www.thegioididong.com/dtdd/iphone-13?src=osp', 'https://www.thegioididong.com/dtdd/iphone-13-128gb-xanh-la?src=osp']\n"
     ]
    }
   ],
   "source": [
    "#numPg=int(input('Input the page number do you want to scrape'))\n",
    "numPg=1\n",
    "    \n",
    "Url_all=[]\n",
    "  \n",
    "for i in range(numPg):\n",
    "    driver.execute_script('window.scrollTo(0,document.body.scrollHeight)') # thực hiện kéo xuống xuối cuối trang \n",
    "    next_btn=driver.find_element_by_xpath('//*[@id=\"categoryPage\"]/div[3]/div[2]/a')\n",
    "    next_btn.click()\n",
    "driver.execute_script('window.scrollTo(0,document.body.scrollHeight)') # thực hiện kéo xuống xuối cuối trang \n",
    "Url_each_page=GetUrl() # Lấy thông tin tất cả từng trang\n",
    "Url_all=Url_all+Url_each_page  \n",
    "\n",
    "\n",
    "\n",
    "print(Url_all)\n"
   ]
  },
  {
   "cell_type": "code",
   "execution_count": 25,
   "metadata": {},
   "outputs": [
    {
     "name": "stdout",
     "output_type": "stream",
     "text": [
      "Điện thoại Samsung Galaxy S22 Ultra 5G 128GB Dynamic AMOLED 2X,6.8\",Quad HD+ (2K+) Android 12 Chính 108 MP & Phụ 12 MP, 10 MP, 10 MP 40 MP Snapdragon 8 Gen 1 8 nhân 8 GB 128 GB 2 Nano SIM hoặc 1 Nano SIM + 1 eSIM 5000 mAh 45 W 30.990.000₫  3.3\n",
      "=====================================================================================\n",
      "Điện thoại iPhone 11 64GB IPS LCD,6.1\",Liquid Retina iOS 15 2 camera 12 MP 12 MP Apple A13 Bionic 4 GB 64 GB 1 Nano SIM & 1 eSIM 3110 mAh 18 W 16.290.000₫  4.0\n",
      "=====================================================================================\n",
      "Điện thoại OPPO Reno7 Z 5G AMOLED,6.43\",Full HD+ Android 11 Chính 64 MP & Phụ 2 MP, 2 MP 16 MP Snapdragon 695 5G 8 nhân 8 GB 128 GB 2 Nano SIM (SIM 2 chung khe thẻ nhớ) 4500 mAh 33 W 10.490.000₫  4.2\n",
      "=====================================================================================\n",
      "Điện thoại Realme C35 IPS LCD,6.6\",Full HD+ Android 11 Chính 50 MP & Phụ 2 MP, 0.3 MP 8 MP Unisoc T616 8 nhân 4 GB 64 GB 2 Nano SIM 5000 mAh 18 W 3.990.000₫  4.1\n",
      "=====================================================================================\n",
      "Điện thoại Xiaomi 11T 5G 128GB AMOLED,6.67\",Full HD+ Android 11 Chính 108 MP & Phụ 8 MP, 5 MP 16 MP MediaTek Dimensity 1200 8 GB 128 GB 2 Nano SIM 5000 mAh 67 W 10.990.000₫  3.9\n",
      "=====================================================================================\n",
      "Điện thoại Samsung Galaxy A03 3GB PLS LCD,6.5\",HD+ Android 11 Chính 48 MP & Phụ 2 MP 5 MP Unisoc T606 8 nhân 3 GB 32 GB 2 Nano SIM 5000 mAh 7.75 W 2.990.000₫  3.8\n",
      "=====================================================================================\n",
      "Điện thoại Xiaomi Redmi Note 11 Pro AMOLED,6.67\",Full HD+ Android 11 Chính 108 MP & Phụ 8 MP, 2 MP, 2 MP 16 MP MediaTek Helio G96 8 nhân 8 GB 128 GB 2 Nano SIM (SIM 2 chung khe thẻ nhớ) 5000 mAh 67 W 7.490.000₫  3.7\n",
      "=====================================================================================\n",
      "Điện thoại iPhone 13 Pro Max 128GB OLED,6.7\",Super Retina XDR iOS 15 3 camera 12 MP 12 MP Apple A15 Bionic 6 GB 128 GB 1 Nano SIM & 1 eSIM 4352 mAh 20 W 33.990.000₫  4.6\n",
      "=====================================================================================\n",
      "Điện thoại Samsung Galaxy A52s 5G 128GB Super AMOLED,6.5\",Full HD+ Android 11 Chính 64 MP & Phụ 12 MP, 5 MP, 5 MP 32 MP Snapdragon 778G 5G 8 nhân 8 GB 128 GB 2 Nano SIM (SIM 2 chung khe thẻ nhớ) 4500 mAh 25 W 10.690.000₫  3.7\n",
      "=====================================================================================\n",
      "Điện thoại Vivo Y15s IPS LCD,6.51\",HD+ Android 11 (Go Edition) Chính 13 MP & Phụ 2 MP 8 MP MediaTek Helio P35 3 GB 32 GB 2 Nano SIM 5000 mAh 10 W 3.490.000₫ 3.4\n",
      "=====================================================================================\n",
      "Điện thoại Samsung Galaxy Z Fold3 5G 256GB Dynamic AMOLED 2X,Chính 7.6\" & Phụ 6.2\",Full HD+ Android 11 3 camera 12 MP 10 MP & 4 MP Snapdragon 888 12 GB 256 GB 2 Nano SIM + 1 eSIM 4400 mAh 25 W 37.990.000₫  4.8\n",
      "=====================================================================================\n",
      "Điện thoại iPhone 12 Pro Max 256GB OLED,6.7\",Super Retina XDR iOS 15 3 camera 12 MP 12 MP Apple A14 Bionic 6 GB 256 GB 1 Nano SIM & 1 eSIM 3687 mAh 20 W 29.990.000₫  4\n",
      "=====================================================================================\n",
      "Điện thoại iPhone 13 Pro 128GB OLED,6.1\",Super Retina XDR iOS 15 3 camera 12 MP 12 MP Apple A15 Bionic 6 GB 128 GB 1 Nano SIM & 1 eSIM 3095 mAh 20 W 29.990.000₫  4.4\n",
      "=====================================================================================\n",
      "Điện thoại Samsung Galaxy S22+ 5G 128GB Dynamic AMOLED 2X,6.6\",Full HD+ Android 12 Chính 50 MP & Phụ 12 MP, 10 MP 10 MP Snapdragon 8 Gen 1 8 nhân 8 GB 128 GB 2 Nano SIM hoặc 1 Nano SIM + 1 eSIM 4500 mAh 45 W 25.990.000₫  5\n",
      "=====================================================================================\n",
      "Điện thoại Samsung Galaxy S21 Ultra 5G 128GB Dynamic AMOLED 2X,6.8\",Quad HD+ (2K+) Android 11 Chính 108 MP & Phụ 12 MP, 10 MP, 10 MP 40 MP Exynos 2100 12 GB 128 GB 2 Nano SIM hoặc 1 Nano SIM + 1 eSIM 5000 mAh 25 W 25.990.000₫  3.3\n",
      "=====================================================================================\n",
      "Điện thoại iPhone 12 Pro 128GB OLED,6.1\",Super Retina XDR iOS 15 3 camera 12 MP 12 MP Apple A14 Bionic 6 GB 128 GB 1 Nano SIM & 1 eSIM 2815 mAh 20 W 24.590.000₫  4.0\n",
      "=====================================================================================\n",
      "Điện thoại iPhone 13 128GB OLED,6.1\",Super Retina XDR iOS 15 2 camera 12 MP 12 MP Apple A15 Bionic 4 GB 128 GB 1 Nano SIM & 1 eSIM 3240 mAh 20 W 24.190.000₫  4.4\n",
      "=====================================================================================\n"
     ]
    }
   ],
   "source": [
    "for url in Url_all:\n",
    "    driver.get(url)\n",
    "    page_source=BeautifulSoup(driver.page_source,\"html.parser\")\n",
    "    display=[]\n",
    "    div1=page_source.find('div',class_='parameter')\n",
    "    name=page_source.find('h1').get_text()\n",
    "    for a in div1.find('div',class_='liright'):\n",
    "        if a.get_text()!='\\n':\n",
    "            display.append(a.get_text())\n",
    "    display2= \",\".join(display)#Thông tin màn hình\n",
    "    path_li=div1.find_all('li')\n",
    "    #print(type(hdh_path))\n",
    "    #vì trong các thành phần được trích xuất từ bs4 có dạng mảng nên ta có thể trích xuất các phần tử\n",
    "    # ở đây ta trích xuất phần tử từ trên xuống theo các phần tử có được trích xuất từ web \n",
    "    hdh=path_li[1].find('span').get_text() #Lấy thông tin hệ điều hành\n",
    "    camera_sau=path_li[2].find('span').get_text() #Lấy thông tin camera sau\n",
    "    camera_truoc=path_li[3].find('span').get_text() #Lấy thông tin camera trước\n",
    "    chip=path_li[4].find('span').get_text() #Lấy thông tin chip\n",
    "    ram=path_li[5].find('span').get_text() #Lấy thông tin ram\n",
    "    rom=path_li[6].find('span').get_text() #Lấy thông tin rom\n",
    "    sim=path_li[7].find('span').get_text() #Lấy thông tin sim\n",
    "    gia=page_source.find('p',class_='box-price-present').get_text() #Lấy thông tin giá\n",
    "    try :\n",
    "        danhgia=page_source.find('p',class_='point').get_text() #Lấy thông tin đánh giá\n",
    "    except AttributeError:\n",
    "            continue\n",
    "\n",
    "    battery=''\n",
    "    charge=''\n",
    "    i=0\n",
    "    for tmp in  path_li[8].find('div'):\n",
    "        if i==0 and tmp.get_text()!='\\n':\n",
    "            battery=battery+tmp.get_text()\n",
    "            i=i+1\n",
    "        else:\n",
    "            charge=charge+tmp.get_text().strip()\n",
    "    \n",
    "    print(name,display2,hdh,camera_sau,camera_truoc,chip,ram,rom,sim,battery,charge,gia,danhgia)\n",
    "    print('=====================================================================================')\n",
    "    "
   ]
  }
 ],
 "metadata": {
  "interpreter": {
   "hash": "bfb4883d108fc92ac768439090a2e92bb9a1f760a54beeecfd6762b5dcd70fe3"
  },
  "kernelspec": {
   "display_name": "Python 3.10.2 64-bit",
   "language": "python",
   "name": "python3"
  },
  "language_info": {
   "codemirror_mode": {
    "name": "ipython",
    "version": 3
   },
   "file_extension": ".py",
   "mimetype": "text/x-python",
   "name": "python",
   "nbconvert_exporter": "python",
   "pygments_lexer": "ipython3",
   "version": "3.10.2"
  },
  "orig_nbformat": 4
 },
 "nbformat": 4,
 "nbformat_minor": 2
}
