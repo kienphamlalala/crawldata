{
 "cells": [
  {
   "cell_type": "code",
   "execution_count": 49,
   "metadata": {},
   "outputs": [
    {
     "data": {
      "text/html": [
       "<div>\n",
       "<style scoped>\n",
       "    .dataframe tbody tr th:only-of-type {\n",
       "        vertical-align: middle;\n",
       "    }\n",
       "\n",
       "    .dataframe tbody tr th {\n",
       "        vertical-align: top;\n",
       "    }\n",
       "\n",
       "    .dataframe thead th {\n",
       "        text-align: right;\n",
       "    }\n",
       "</style>\n",
       "<table border=\"1\" class=\"dataframe\">\n",
       "  <thead>\n",
       "    <tr style=\"text-align: right;\">\n",
       "      <th></th>\n",
       "      <th>Name</th>\n",
       "      <th>Gia</th>\n",
       "    </tr>\n",
       "  </thead>\n",
       "  <tbody>\n",
       "    <tr>\n",
       "      <th>0</th>\n",
       "      <td>Điện thoại Samsung Galaxy S22 Ultra 5G 128GB</td>\n",
       "      <td>30990000</td>\n",
       "    </tr>\n",
       "    <tr>\n",
       "      <th>1</th>\n",
       "      <td>Điện thoại iPhone 11 64GB</td>\n",
       "      <td>16290000</td>\n",
       "    </tr>\n",
       "    <tr>\n",
       "      <th>2</th>\n",
       "      <td>Điện thoại OPPO Reno7 Z 5G</td>\n",
       "      <td>10490000</td>\n",
       "    </tr>\n",
       "    <tr>\n",
       "      <th>3</th>\n",
       "      <td>Điện thoại Realme C35</td>\n",
       "      <td>3990000</td>\n",
       "    </tr>\n",
       "    <tr>\n",
       "      <th>4</th>\n",
       "      <td>Điện thoại Xiaomi 11T 5G 128GB</td>\n",
       "      <td>10990000</td>\n",
       "    </tr>\n",
       "    <tr>\n",
       "      <th>...</th>\n",
       "      <td>...</td>\n",
       "      <td>...</td>\n",
       "    </tr>\n",
       "    <tr>\n",
       "      <th>71</th>\n",
       "      <td>Điện thoại Nokia G10</td>\n",
       "      <td>3690000</td>\n",
       "    </tr>\n",
       "    <tr>\n",
       "      <th>72</th>\n",
       "      <td>Điện thoại Nokia G11</td>\n",
       "      <td>3590000</td>\n",
       "    </tr>\n",
       "    <tr>\n",
       "      <th>73</th>\n",
       "      <td>Điện thoại Realme C21Y 3GB</td>\n",
       "      <td>3690000</td>\n",
       "    </tr>\n",
       "    <tr>\n",
       "      <th>74</th>\n",
       "      <td>Điện thoại Xiaomi Redmi 10C 64GB</td>\n",
       "      <td>3490000</td>\n",
       "    </tr>\n",
       "    <tr>\n",
       "      <th>75</th>\n",
       "      <td>Điện thoại Realme C21-Y 3GB</td>\n",
       "      <td>3690000</td>\n",
       "    </tr>\n",
       "  </tbody>\n",
       "</table>\n",
       "<p>76 rows × 2 columns</p>\n",
       "</div>"
      ],
      "text/plain": [
       "                                            Name       Gia\n",
       "0   Điện thoại Samsung Galaxy S22 Ultra 5G 128GB  30990000\n",
       "1                      Điện thoại iPhone 11 64GB  16290000\n",
       "2                     Điện thoại OPPO Reno7 Z 5G  10490000\n",
       "3                          Điện thoại Realme C35   3990000\n",
       "4                 Điện thoại Xiaomi 11T 5G 128GB  10990000\n",
       "..                                           ...       ...\n",
       "71                          Điện thoại Nokia G10   3690000\n",
       "72                          Điện thoại Nokia G11   3590000\n",
       "73                    Điện thoại Realme C21Y 3GB   3690000\n",
       "74              Điện thoại Xiaomi Redmi 10C 64GB   3490000\n",
       "75                   Điện thoại Realme C21-Y 3GB   3690000\n",
       "\n",
       "[76 rows x 2 columns]"
      ]
     },
     "execution_count": 49,
     "metadata": {},
     "output_type": "execute_result"
    }
   ],
   "source": [
    "import pandas as pd\n",
    "\n",
    "df=pd.read_csv('Du_lieu_dt_4.csv')\n",
    "df['Gia']=df['Gia'].replace('[*₫Giá dự kiến: .]','',regex=True)\n",
    "df['Gia']=pd.to_numeric(df['Gia']).astype(int)\n",
    "\n",
    "df.loc[:,['Name','Gia']]\n"
   ]
  },
  {
   "cell_type": "code",
   "execution_count": 38,
   "metadata": {},
   "outputs": [
    {
     "ename": "SyntaxError",
     "evalue": "invalid syntax (1436506056.py, line 1)",
     "output_type": "error",
     "traceback": [
      "\u001b[1;36m  Input \u001b[1;32mIn [38]\u001b[1;36m\u001b[0m\n\u001b[1;33m    ss_data=df.loc[df['Name']==]\u001b[0m\n\u001b[1;37m                               ^\u001b[0m\n\u001b[1;31mSyntaxError\u001b[0m\u001b[1;31m:\u001b[0m invalid syntax\n"
     ]
    }
   ],
   "source": []
  }
 ],
 "metadata": {
  "interpreter": {
   "hash": "bfb4883d108fc92ac768439090a2e92bb9a1f760a54beeecfd6762b5dcd70fe3"
  },
  "kernelspec": {
   "display_name": "Python 3.10.2 64-bit",
   "language": "python",
   "name": "python3"
  },
  "language_info": {
   "codemirror_mode": {
    "name": "ipython",
    "version": 3
   },
   "file_extension": ".py",
   "mimetype": "text/x-python",
   "name": "python",
   "nbconvert_exporter": "python",
   "pygments_lexer": "ipython3",
   "version": "3.10.2"
  },
  "orig_nbformat": 4
 },
 "nbformat": 4,
 "nbformat_minor": 2
}
