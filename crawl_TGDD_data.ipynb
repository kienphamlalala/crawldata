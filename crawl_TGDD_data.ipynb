{
 "cells": [
  {
   "cell_type": "code",
   "execution_count": 4,
   "metadata": {},
   "outputs": [
    {
     "name": "stderr",
     "output_type": "stream",
     "text": [
      "C:\\Users\\Admin\\AppData\\Local\\Temp\\ipykernel_10144\\2473477986.py:10: DeprecationWarning: find_element_by_xpath is deprecated. Please use find_element(by=By.XPATH, value=xpath) instead\n",
      "  dt=driver.find_element_by_xpath('/html/body/header/div[2]/div/ul/li[1]/a/span')\n"
     ]
    }
   ],
   "source": [
    "from selenium import webdriver\n",
    "from bs4 import BeautifulSoup \n",
    "import pandas as pd\n",
    "import csv\n",
    "\n",
    "# Open web automaticly\n",
    "driver=webdriver.Edge()\n",
    "url='https://www.thegioididong.com' #Lấy link để mở web tự động\n",
    "driver.get(url)\n",
    "dt=driver.find_element_by_xpath('/html/body/header/div[2]/div/ul/li[1]/a/span') \n",
    "dt.click()\n",
    "\n",
    "\n",
    "#Scrape data of products from soucre web \n",
    "def GetUrl():\n",
    "    page_s=BeautifulSoup(driver.page_source) #dùng bs4 tải toàn bộ HTML document lên chương trình\n",
    "    tel_infors=page_s.find_all('a',class_='main-contain') # tìm đúng element trong source để lấy chính xác id, ở đây sử dụng class và  task a\n",
    "   \n",
    "    all_prod=[]\n",
    "    for tel_infor in tel_infors:\n",
    "        tel_ID=tel_infor.get('href') # lấy link đuôi trong thành phần có tên là href\n",
    "        tel_If_url='https://www.thegioididong.com'+tel_ID\n",
    "        if tel_If_url not in all_prod:  #để tránh lặp lại gá trị vì trong web có các thành phần nằm chồng lên nhau và giống nhau\n",
    "            all_prod.append(tel_If_url)\n",
    "    set(all_prod)\n",
    "    return all_prod\n",
    "#print(GetUrl(),'\\n==============================================================================')\n",
    "\n"
   ]
  },
  {
   "cell_type": "markdown",
   "metadata": {},
   "source": [
    "Lặp từng vòng page để lấy dữ liệu"
   ]
  },
  {
   "cell_type": "code",
   "execution_count": 5,
   "metadata": {},
   "outputs": [
    {
     "name": "stderr",
     "output_type": "stream",
     "text": [
      "C:\\Users\\Admin\\AppData\\Local\\Temp\\ipykernel_10144\\363947574.py:8: DeprecationWarning: find_element_by_xpath is deprecated. Please use find_element(by=By.XPATH, value=xpath) instead\n",
      "  next_btn=driver.find_element_by_xpath('//*[@id=\"categoryPage\"]/div[3]/div[2]/a')\n"
     ]
    },
    {
     "name": "stdout",
     "output_type": "stream",
     "text": [
      "['https://www.thegioididong.com/dtdd/samsung-galaxy-s22-ultra?src=osp', 'https://www.thegioididong.com/dtdd/iphone-11?src=osp', 'https://www.thegioididong.com/dtdd/oppo-reno7-z?src=osp', 'https://www.thegioididong.com/dtdd/realme-c35?src=osp', 'https://www.thegioididong.com/dtdd/xiaomi-11t?src=osp', 'https://www.thegioididong.com/dtdd/samsung-galaxy-a03?src=osp', 'https://www.thegioididong.com/dtdd/xiaomi-redmi-note-11-pro-4g?src=osp', 'https://www.thegioididong.com/dtdd/xiaomi-redmi-note-11s-5g?src=osp', 'https://www.thegioididong.com/dtdd/iphone-13-pro-max?src=osp', 'https://www.thegioididong.com/dtdd/samsung-galaxy-a52s-5g?src=osp', 'https://www.thegioididong.com/dtdd/vivo-y15s-2021?src=osp', 'https://www.thegioididong.com/dtdd/samsung-galaxy-z-fold-3?src=osp', 'https://www.thegioididong.com/dtdd/iphone-12-pro-max-512gb?src=osp', 'https://www.thegioididong.com/dtdd/oppo-find-x5-pro?src=osp', 'https://www.thegioididong.com/dtdd/iphone-13-pro?src=osp', 'https://www.thegioididong.com/dtdd/iphone-12-pro-256gb?src=osp', 'https://www.thegioididong.com/dtdd/samsung-galaxy-s22-plus?src=osp', 'https://www.thegioididong.com/dtdd/samsung-galaxy-s21-ultra?src=osp', 'https://www.thegioididong.com/dtdd/samsung-galaxy-s22?src=osp', 'https://www.thegioididong.com/dtdd/iphone-13?src=osp', 'https://www.thegioididong.com/dtdd/xiaomi-mi-12?src=osp', 'https://www.thegioididong.com/dtdd/iphone-13-mini?src=osp', 'https://www.thegioididong.com/dtdd/iphone-12?src=osp', 'https://www.thegioididong.com/dtdd/iphone-12-mini?src=osp', 'https://www.thegioididong.com/dtdd/samsung-galaxy-z-flip-3?src=osp', 'https://www.thegioididong.com/dtdd/samsung-galaxy-s21-plus?src=osp', 'https://www.thegioididong.com/dtdd/samsung-galaxy-note-20?src=osp', 'https://www.thegioididong.com/dtdd/samsung-galaxy-s21?src=osp', 'https://www.thegioididong.com/dtdd/xiaomi-11t-pro-5g-8gb?src=osp', 'https://www.thegioididong.com/dtdd/iphone-xr-128gb?src=osp', 'https://www.thegioididong.com/dtdd/samsung-galaxy-s20-fan-edition?src=osp', 'https://www.thegioididong.com/dtdd/iphone-se-2022?src=osp', 'https://www.thegioididong.com/dtdd/samsung-galaxy-s21-fe-6gb?src=osp', 'https://www.thegioididong.com/dtdd/samsung-galaxy-m53?src=osp', 'https://www.thegioididong.com/dtdd/samsung-galaxy-a73?src=osp', 'https://www.thegioididong.com/dtdd/iphone-se-64gb-2020-hop-moi?src=osp', 'https://www.thegioididong.com/dtdd/oppo-reno6?src=osp', 'https://www.thegioididong.com/dtdd/samsung-galaxy-a53?src=osp', 'https://www.thegioididong.com/dtdd/xiaomi-11-lite-5g-ne?src=osp', 'https://www.thegioididong.com/dtdd/samsung-galaxy-a52?src=osp', 'https://www.thegioididong.com/dtdd/vivo-v21-5g?src=osp', 'https://www.thegioididong.com/dtdd/oppo-reno5-5g?src=osp', 'https://www.thegioididong.com/dtdd/vivo-v23e?src=osp', 'https://www.thegioididong.com/dtdd/samsung-galaxy-a33?src=osp', 'https://www.thegioididong.com/dtdd/realme-9-pro?src=osp', 'https://www.thegioididong.com/dtdd/xiaomi-mi-11-lite-4g?src=osp', 'https://www.thegioididong.com/dtdd/oppo-reno4-pro?src=osp', 'https://www.thegioididong.com/dtdd/samsung-galaxy-m33-5g?src=osp', 'https://www.thegioididong.com/dtdd/xiaomi-redmi-note-10-pro?src=osp', 'https://www.thegioididong.com/dtdd/realme-8?src=osp', 'https://www.thegioididong.com/dtdd/oppo-a95-4g?src=osp', 'https://www.thegioididong.com/dtdd/vivo-y53s?src=osp', 'https://www.thegioididong.com/dtdd/vivo-y33s?src=osp', 'https://www.thegioididong.com/dtdd/samsung-galaxy-a32-4g?src=osp', 'https://www.thegioididong.com/dtdd/vivo-y55-2022?src=osp', 'https://www.thegioididong.com/dtdd/realme-9-4g?src=osp', 'https://www.thegioididong.com/dtdd/oppo-a76-4g?src=osp', 'https://www.thegioididong.com/dtdd/xiaomi-redmi-note-10s-6gb?src=osp', 'https://www.thegioididong.com/dtdd/samsung-galaxy-a22-4g?src=osp', 'https://www.thegioididong.com/dtdd/oppo-a74-5g?src=osp', 'https://www.thegioididong.com/dtdd/samsung-galaxy-a23?src=osp', 'https://www.thegioididong.com/dtdd/realme-9i-4gb-64gb?src=osp', 'https://www.thegioididong.com/dtdd/oppo-a55-4g?src=osp', 'https://www.thegioididong.com/dtdd/realme-c25y-64gb?src=osp', 'https://www.thegioididong.com/dtdd/samsung-galaxy-a13-4g?src=osp', 'https://www.thegioididong.com/dtdd/xiaomi-redmi-note-11-4gb-64gb?src=osp', 'https://www.thegioididong.com/dtdd/oppo-a15s?src=osp', 'https://www.thegioididong.com/dtdd/realme-c25s?src=osp', 'https://www.thegioididong.com/dtdd/xiaomi-redmi-10-4gb-128gb?src=osp', 'https://www.thegioididong.com/dtdd/nokia-g21?src=osp', 'https://www.thegioididong.com/dtdd/xiaomi-redmi-10-2022?src=osp', 'https://www.thegioididong.com/dtdd/oppo-a16?src=osp', 'https://www.thegioididong.com/dtdd/vivo-y21?src=osp', 'https://www.thegioididong.com/dtdd/realme-c21-y-3gb?src=osp', 'https://www.thegioididong.com/dtdd/samsung-galaxy-a03s?src=osp', 'https://www.thegioididong.com/dtdd/nokia-g11?src=osp', 'https://www.thegioididong.com/dtdd/samsung-galaxy-a12-2021?src=osp', 'https://www.thegioididong.com/dtdd/xiaomi-redmi-10c?src=osp', 'https://www.thegioididong.com/dtdd/realme-c21y-3gb?src=osp', 'https://www.thegioididong.com/dtdd/oppo-a16k?src=osp', 'https://www.thegioididong.com/dtdd/nokia-g10?src=osp', 'https://www.thegioididong.com/dtdd/xiaomi-redmi-9c-3gb?src=osp', 'https://www.thegioididong.com/dtdd/realme-c11-2021?src=osp', 'https://www.thegioididong.com/dtdd/realme-c11-2021-2gb-32gb?src=osp', 'https://www.thegioididong.com/dtdd/nokia-c30?src=osp', 'https://www.thegioididong.com/dtdd/vivo-y01?src=osp', 'https://www.thegioididong.com/dtdd/nokia-c20?src=osp', 'https://www.thegioididong.com/dtdd/xiaomi-redmi-9a?src=osp', 'https://www.thegioididong.com/dtdd/itel-l6502?src=osp', 'https://www.thegioididong.com/dtdd/itel-l6006?src=osp', 'https://www.thegioididong.com/dtdd/nokia-215?src=osp', 'https://www.thegioididong.com/dtdd/nokia-110-4g?src=osp', 'https://www.thegioididong.com/dtdd/masstel-fami-60?src=osp', 'https://www.thegioididong.com/dtdd/nokia-105-4g?src=osp', 'https://www.thegioididong.com/dtdd/masstel-izi-55?src=osp', 'https://www.thegioididong.com/dtdd/itel-it9210?src=osp', 'https://www.thegioididong.com/dtdd/masstel-fami-12-4g?src=osp', 'https://www.thegioididong.com/dtdd/itel-it9010?src=osp', 'https://www.thegioididong.com/dtdd/masstel-izi-20-4g?src=osp', 'https://www.thegioididong.com/dtdd/masstel-izi-10-4g?src=osp', 'https://www.thegioididong.com/dtdd/nokia-105-single-sim-2019?src=osp']\n"
     ]
    }
   ],
   "source": [
    "#numPg=int(input('Input the page number do you want to scrape'))\n",
    "numPg=5\n",
    "    \n",
    "Url_all=[]\n",
    "  \n",
    "for i in range(numPg):\n",
    "    driver.execute_script('window.scrollTo(0,document.body.scrollHeight)') # thực hiện kéo xuống xuối cuối trang \n",
    "    next_btn=driver.find_element_by_xpath('//*[@id=\"categoryPage\"]/div[3]/div[2]/a')\n",
    "    next_btn.click()\n",
    "driver.execute_script('window.scrollTo(0,document.body.scrollHeight)') # thực hiện kéo xuống xuối cuối trang \n",
    "Url_each_page=GetUrl() # Lấy thông tin tất cả từng trang\n",
    "Url_all=Url_all+Url_each_page  \n",
    "print(Url_all)\n",
    " \n",
    "\n",
    "\n"
   ]
  },
  {
   "cell_type": "markdown",
   "metadata": {},
   "source": [
    "Write into file .csv"
   ]
  },
  {
   "cell_type": "code",
   "execution_count": 3,
   "metadata": {},
   "outputs": [
    {
     "name": "stdout",
     "output_type": "stream",
     "text": [
      "Điện thoại Samsung Galaxy S22 Ultra 5G 128GB Dynamic AMOLED 2X,6.8\",Quad HD+ (2K+) Android 12 Chính 108 MP & Phụ 12 MP, 10 MP, 10 MP 40 MP Snapdragon 8 Gen 1 8 nhân 8 GB 128 GB 2 Nano SIM hoặc 1 Nano SIM + 1 eSIM 5000 mAh 45 W 30.990.000₫  3 26\n",
      "Điện thoại Samsung Galaxy S22 Ultra 5G 128GB Dynamic AMOLED 2X,6.8\",Quad HD+ (2K+) Samsung Android 12 Chính 108 MP & Phụ 12 MP, 10 MP, 10 MP 40 MP Snapdragon 8 Gen 1 8 nhân 8 GB 128 GB 2 Nano SIM hoặc 1 Nano SIM + 1 eSIM 5000 mAh 45 W 30.990.000₫  3 26\n",
      "Điện thoại iPhone 11 64GB IPS LCD,6.1\",Liquid Retina iOS 15 2 camera 12 MP 12 MP Apple A13 Bionic 4 GB 64 GB 1 Nano SIM & 1 eSIM 3110 mAh 18 W 14.990.000₫  4.0 828\n",
      "Điện thoại iPhone 11 64GB IPS LCD,6.1\",Liquid Retina iPhone iOS 15 2 camera 12 MP 12 MP Apple A13 Bionic 4 GB 64 GB 1 Nano SIM & 1 eSIM 3110 mAh 18 W 14.990.000₫  4.0 828\n",
      "Điện thoại OPPO Reno7 Z 5G AMOLED,6.43\",Full HD+ Android 11 Chính 64 MP & Phụ 2 MP, 2 MP 16 MP Snapdragon 695 5G 8 nhân 8 GB 128 GB 2 Nano SIM (SIM 2 chung khe thẻ nhớ) 4500 mAh 33 W 10.490.000₫  3.5 144\n",
      "Điện thoại OPPO Reno7 Z 5G AMOLED,6.43\",Full HD+ OPPO Android 11 Chính 64 MP & Phụ 2 MP, 2 MP 16 MP Snapdragon 695 5G 8 nhân 8 GB 128 GB 2 Nano SIM (SIM 2 chung khe thẻ nhớ) 4500 mAh 33 W 10.490.000₫  3.5 144\n",
      "Điện thoại Realme C35 64GB IPS LCD,6.6\",Full HD+ Android 11 Chính 50 MP & Phụ 2 MP, 0.3 MP 8 MP Unisoc T616 8 nhân 4 GB 64 GB 2 Nano SIM 5000 mAh 18 W 3.990.000₫  3.4 113\n",
      "Điện thoại Realme C35 64GB IPS LCD,6.6\",Full HD+ Realme Android 11 Chính 50 MP & Phụ 2 MP, 0.3 MP 8 MP Unisoc T616 8 nhân 4 GB 64 GB 2 Nano SIM 5000 mAh 18 W 3.990.000₫  3.4 113\n",
      "Điện thoại Xiaomi 11T 5G 128GB AMOLED,6.67\",Full HD+ Android 11 Chính 108 MP & Phụ 8 MP, 5 MP 16 MP MediaTek Dimensity 1200 8 GB 128 GB 2 Nano SIM 5000 mAh 67 W 10.990.000₫  3.8 324\n",
      "Điện thoại Xiaomi 11T 5G 128GB AMOLED,6.67\",Full HD+ Xiaomi Android 11 Chính 108 MP & Phụ 8 MP, 5 MP 16 MP MediaTek Dimensity 1200 8 GB 128 GB 2 Nano SIM 5000 mAh 67 W 10.990.000₫  3.8 324\n",
      "Điện thoại Samsung Galaxy A03 3GB PLS LCD,6.5\",HD+ Android 11 Chính 48 MP & Phụ 2 MP 5 MP Unisoc T606 8 nhân 3 GB 32 GB 2 Nano SIM 5000 mAh 7.75 W 2.990.000₫  3.8 84\n",
      "Điện thoại Samsung Galaxy A03 3GB PLS LCD,6.5\",HD+ Samsung Android 11 Chính 48 MP & Phụ 2 MP 5 MP Unisoc T606 8 nhân 3 GB 32 GB 2 Nano SIM 5000 mAh 7.75 W 2.990.000₫  3.8 84\n"
     ]
    },
    {
     "ename": "KeyboardInterrupt",
     "evalue": "",
     "output_type": "error",
     "traceback": [
      "\u001b[1;31m---------------------------------------------------------------------------\u001b[0m",
      "\u001b[1;31mKeyboardInterrupt\u001b[0m                         Traceback (most recent call last)",
      "\u001b[1;32md:\\VISUAL\\python\\CrawlDataFromWeb\\crawlData2.ipynb Cell 5'\u001b[0m in \u001b[0;36m<module>\u001b[1;34m\u001b[0m\n\u001b[0;32m      <a href='vscode-notebook-cell:/d%3A/VISUAL/python/CrawlDataFromWeb/crawlData2.ipynb#ch0000004?line=4'>5</a>\u001b[0m \u001b[39mfor\u001b[39;00m url \u001b[39min\u001b[39;00m Url_all:\n\u001b[0;32m      <a href='vscode-notebook-cell:/d%3A/VISUAL/python/CrawlDataFromWeb/crawlData2.ipynb#ch0000004?line=5'>6</a>\u001b[0m     driver\u001b[39m.\u001b[39mget(url)\n\u001b[1;32m----> <a href='vscode-notebook-cell:/d%3A/VISUAL/python/CrawlDataFromWeb/crawlData2.ipynb#ch0000004?line=6'>7</a>\u001b[0m     page_source\u001b[39m=\u001b[39mBeautifulSoup(driver\u001b[39m.\u001b[39;49mpage_source,\u001b[39m\"\u001b[39m\u001b[39mhtml.parser\u001b[39m\u001b[39m\"\u001b[39m)\n\u001b[0;32m      <a href='vscode-notebook-cell:/d%3A/VISUAL/python/CrawlDataFromWeb/crawlData2.ipynb#ch0000004?line=7'>8</a>\u001b[0m     display\u001b[39m=\u001b[39m[]\n\u001b[0;32m      <a href='vscode-notebook-cell:/d%3A/VISUAL/python/CrawlDataFromWeb/crawlData2.ipynb#ch0000004?line=8'>9</a>\u001b[0m     div1\u001b[39m=\u001b[39mpage_source\u001b[39m.\u001b[39mfind(\u001b[39m'\u001b[39m\u001b[39mdiv\u001b[39m\u001b[39m'\u001b[39m,class_\u001b[39m=\u001b[39m\u001b[39m'\u001b[39m\u001b[39mparameter\u001b[39m\u001b[39m'\u001b[39m)\n",
      "File \u001b[1;32mc:\\Users\\Admin\\AppData\\Local\\Programs\\Python\\Python310\\lib\\site-packages\\selenium\\webdriver\\remote\\webdriver.py:927\u001b[0m, in \u001b[0;36mWebDriver.page_source\u001b[1;34m(self)\u001b[0m\n\u001b[0;32m    <a href='file:///c%3A/Users/Admin/AppData/Local/Programs/Python/Python310/lib/site-packages/selenium/webdriver/remote/webdriver.py?line=916'>917</a>\u001b[0m \u001b[39m@property\u001b[39m\n\u001b[0;32m    <a href='file:///c%3A/Users/Admin/AppData/Local/Programs/Python/Python310/lib/site-packages/selenium/webdriver/remote/webdriver.py?line=917'>918</a>\u001b[0m \u001b[39mdef\u001b[39;00m \u001b[39mpage_source\u001b[39m(\u001b[39mself\u001b[39m) \u001b[39m-\u001b[39m\u001b[39m>\u001b[39m \u001b[39mstr\u001b[39m:\n\u001b[0;32m    <a href='file:///c%3A/Users/Admin/AppData/Local/Programs/Python/Python310/lib/site-packages/selenium/webdriver/remote/webdriver.py?line=918'>919</a>\u001b[0m     \u001b[39m\"\"\"\u001b[39;00m\n\u001b[0;32m    <a href='file:///c%3A/Users/Admin/AppData/Local/Programs/Python/Python310/lib/site-packages/selenium/webdriver/remote/webdriver.py?line=919'>920</a>\u001b[0m \u001b[39m    Gets the source of the current page.\u001b[39;00m\n\u001b[0;32m    <a href='file:///c%3A/Users/Admin/AppData/Local/Programs/Python/Python310/lib/site-packages/selenium/webdriver/remote/webdriver.py?line=920'>921</a>\u001b[0m \n\u001b[1;32m   (...)\u001b[0m\n\u001b[0;32m    <a href='file:///c%3A/Users/Admin/AppData/Local/Programs/Python/Python310/lib/site-packages/selenium/webdriver/remote/webdriver.py?line=924'>925</a>\u001b[0m \u001b[39m            driver.page_source\u001b[39;00m\n\u001b[0;32m    <a href='file:///c%3A/Users/Admin/AppData/Local/Programs/Python/Python310/lib/site-packages/selenium/webdriver/remote/webdriver.py?line=925'>926</a>\u001b[0m \u001b[39m    \"\"\"\u001b[39;00m\n\u001b[1;32m--> <a href='file:///c%3A/Users/Admin/AppData/Local/Programs/Python/Python310/lib/site-packages/selenium/webdriver/remote/webdriver.py?line=926'>927</a>\u001b[0m     \u001b[39mreturn\u001b[39;00m \u001b[39mself\u001b[39;49m\u001b[39m.\u001b[39;49mexecute(Command\u001b[39m.\u001b[39;49mGET_PAGE_SOURCE)[\u001b[39m'\u001b[39m\u001b[39mvalue\u001b[39m\u001b[39m'\u001b[39m]\n",
      "File \u001b[1;32mc:\\Users\\Admin\\AppData\\Local\\Programs\\Python\\Python310\\lib\\site-packages\\selenium\\webdriver\\remote\\webdriver.py:423\u001b[0m, in \u001b[0;36mWebDriver.execute\u001b[1;34m(self, driver_command, params)\u001b[0m\n\u001b[0;32m    <a href='file:///c%3A/Users/Admin/AppData/Local/Programs/Python/Python310/lib/site-packages/selenium/webdriver/remote/webdriver.py?line=419'>420</a>\u001b[0m         params[\u001b[39m'\u001b[39m\u001b[39msessionId\u001b[39m\u001b[39m'\u001b[39m] \u001b[39m=\u001b[39m \u001b[39mself\u001b[39m\u001b[39m.\u001b[39msession_id\n\u001b[0;32m    <a href='file:///c%3A/Users/Admin/AppData/Local/Programs/Python/Python310/lib/site-packages/selenium/webdriver/remote/webdriver.py?line=421'>422</a>\u001b[0m params \u001b[39m=\u001b[39m \u001b[39mself\u001b[39m\u001b[39m.\u001b[39m_wrap_value(params)\n\u001b[1;32m--> <a href='file:///c%3A/Users/Admin/AppData/Local/Programs/Python/Python310/lib/site-packages/selenium/webdriver/remote/webdriver.py?line=422'>423</a>\u001b[0m response \u001b[39m=\u001b[39m \u001b[39mself\u001b[39;49m\u001b[39m.\u001b[39;49mcommand_executor\u001b[39m.\u001b[39;49mexecute(driver_command, params)\n\u001b[0;32m    <a href='file:///c%3A/Users/Admin/AppData/Local/Programs/Python/Python310/lib/site-packages/selenium/webdriver/remote/webdriver.py?line=423'>424</a>\u001b[0m \u001b[39mif\u001b[39;00m response:\n\u001b[0;32m    <a href='file:///c%3A/Users/Admin/AppData/Local/Programs/Python/Python310/lib/site-packages/selenium/webdriver/remote/webdriver.py?line=424'>425</a>\u001b[0m     \u001b[39mself\u001b[39m\u001b[39m.\u001b[39merror_handler\u001b[39m.\u001b[39mcheck_response(response)\n",
      "File \u001b[1;32mc:\\Users\\Admin\\AppData\\Local\\Programs\\Python\\Python310\\lib\\site-packages\\selenium\\webdriver\\remote\\remote_connection.py:333\u001b[0m, in \u001b[0;36mRemoteConnection.execute\u001b[1;34m(self, command, params)\u001b[0m\n\u001b[0;32m    <a href='file:///c%3A/Users/Admin/AppData/Local/Programs/Python/Python310/lib/site-packages/selenium/webdriver/remote/remote_connection.py?line=330'>331</a>\u001b[0m data \u001b[39m=\u001b[39m utils\u001b[39m.\u001b[39mdump_json(params)\n\u001b[0;32m    <a href='file:///c%3A/Users/Admin/AppData/Local/Programs/Python/Python310/lib/site-packages/selenium/webdriver/remote/remote_connection.py?line=331'>332</a>\u001b[0m url \u001b[39m=\u001b[39m \u001b[39mf\u001b[39m\u001b[39m\"\u001b[39m\u001b[39m{\u001b[39;00m\u001b[39mself\u001b[39m\u001b[39m.\u001b[39m_url\u001b[39m}\u001b[39;00m\u001b[39m{\u001b[39;00mpath\u001b[39m}\u001b[39;00m\u001b[39m\"\u001b[39m\n\u001b[1;32m--> <a href='file:///c%3A/Users/Admin/AppData/Local/Programs/Python/Python310/lib/site-packages/selenium/webdriver/remote/remote_connection.py?line=332'>333</a>\u001b[0m \u001b[39mreturn\u001b[39;00m \u001b[39mself\u001b[39;49m\u001b[39m.\u001b[39;49m_request(command_info[\u001b[39m0\u001b[39;49m], url, body\u001b[39m=\u001b[39;49mdata)\n",
      "File \u001b[1;32mc:\\Users\\Admin\\AppData\\Local\\Programs\\Python\\Python310\\lib\\site-packages\\selenium\\webdriver\\remote\\remote_connection.py:355\u001b[0m, in \u001b[0;36mRemoteConnection._request\u001b[1;34m(self, method, url, body)\u001b[0m\n\u001b[0;32m    <a href='file:///c%3A/Users/Admin/AppData/Local/Programs/Python/Python310/lib/site-packages/selenium/webdriver/remote/remote_connection.py?line=351'>352</a>\u001b[0m     body \u001b[39m=\u001b[39m \u001b[39mNone\u001b[39;00m\n\u001b[0;32m    <a href='file:///c%3A/Users/Admin/AppData/Local/Programs/Python/Python310/lib/site-packages/selenium/webdriver/remote/remote_connection.py?line=353'>354</a>\u001b[0m \u001b[39mif\u001b[39;00m \u001b[39mself\u001b[39m\u001b[39m.\u001b[39mkeep_alive:\n\u001b[1;32m--> <a href='file:///c%3A/Users/Admin/AppData/Local/Programs/Python/Python310/lib/site-packages/selenium/webdriver/remote/remote_connection.py?line=354'>355</a>\u001b[0m     resp \u001b[39m=\u001b[39m \u001b[39mself\u001b[39;49m\u001b[39m.\u001b[39;49m_conn\u001b[39m.\u001b[39;49mrequest(method, url, body\u001b[39m=\u001b[39;49mbody, headers\u001b[39m=\u001b[39;49mheaders)\n\u001b[0;32m    <a href='file:///c%3A/Users/Admin/AppData/Local/Programs/Python/Python310/lib/site-packages/selenium/webdriver/remote/remote_connection.py?line=355'>356</a>\u001b[0m     statuscode \u001b[39m=\u001b[39m resp\u001b[39m.\u001b[39mstatus\n\u001b[0;32m    <a href='file:///c%3A/Users/Admin/AppData/Local/Programs/Python/Python310/lib/site-packages/selenium/webdriver/remote/remote_connection.py?line=356'>357</a>\u001b[0m \u001b[39melse\u001b[39;00m:\n",
      "File \u001b[1;32mc:\\Users\\Admin\\AppData\\Local\\Programs\\Python\\Python310\\lib\\site-packages\\urllib3\\request.py:74\u001b[0m, in \u001b[0;36mRequestMethods.request\u001b[1;34m(self, method, url, fields, headers, **urlopen_kw)\u001b[0m\n\u001b[0;32m     <a href='file:///c%3A/Users/Admin/AppData/Local/Programs/Python/Python310/lib/site-packages/urllib3/request.py?line=70'>71</a>\u001b[0m urlopen_kw[\u001b[39m\"\u001b[39m\u001b[39mrequest_url\u001b[39m\u001b[39m\"\u001b[39m] \u001b[39m=\u001b[39m url\n\u001b[0;32m     <a href='file:///c%3A/Users/Admin/AppData/Local/Programs/Python/Python310/lib/site-packages/urllib3/request.py?line=72'>73</a>\u001b[0m \u001b[39mif\u001b[39;00m method \u001b[39min\u001b[39;00m \u001b[39mself\u001b[39m\u001b[39m.\u001b[39m_encode_url_methods:\n\u001b[1;32m---> <a href='file:///c%3A/Users/Admin/AppData/Local/Programs/Python/Python310/lib/site-packages/urllib3/request.py?line=73'>74</a>\u001b[0m     \u001b[39mreturn\u001b[39;00m \u001b[39mself\u001b[39m\u001b[39m.\u001b[39mrequest_encode_url(\n\u001b[0;32m     <a href='file:///c%3A/Users/Admin/AppData/Local/Programs/Python/Python310/lib/site-packages/urllib3/request.py?line=74'>75</a>\u001b[0m         method, url, fields\u001b[39m=\u001b[39mfields, headers\u001b[39m=\u001b[39mheaders, \u001b[39m*\u001b[39m\u001b[39m*\u001b[39murlopen_kw\n\u001b[0;32m     <a href='file:///c%3A/Users/Admin/AppData/Local/Programs/Python/Python310/lib/site-packages/urllib3/request.py?line=75'>76</a>\u001b[0m     )\n\u001b[0;32m     <a href='file:///c%3A/Users/Admin/AppData/Local/Programs/Python/Python310/lib/site-packages/urllib3/request.py?line=76'>77</a>\u001b[0m \u001b[39melse\u001b[39;00m:\n\u001b[0;32m     <a href='file:///c%3A/Users/Admin/AppData/Local/Programs/Python/Python310/lib/site-packages/urllib3/request.py?line=77'>78</a>\u001b[0m     \u001b[39mreturn\u001b[39;00m \u001b[39mself\u001b[39m\u001b[39m.\u001b[39mrequest_encode_body(\n\u001b[0;32m     <a href='file:///c%3A/Users/Admin/AppData/Local/Programs/Python/Python310/lib/site-packages/urllib3/request.py?line=78'>79</a>\u001b[0m         method, url, fields\u001b[39m=\u001b[39mfields, headers\u001b[39m=\u001b[39mheaders, \u001b[39m*\u001b[39m\u001b[39m*\u001b[39murlopen_kw\n\u001b[0;32m     <a href='file:///c%3A/Users/Admin/AppData/Local/Programs/Python/Python310/lib/site-packages/urllib3/request.py?line=79'>80</a>\u001b[0m     )\n",
      "File \u001b[1;32mc:\\Users\\Admin\\AppData\\Local\\Programs\\Python\\Python310\\lib\\site-packages\\urllib3\\request.py:96\u001b[0m, in \u001b[0;36mRequestMethods.request_encode_url\u001b[1;34m(self, method, url, fields, headers, **urlopen_kw)\u001b[0m\n\u001b[0;32m     <a href='file:///c%3A/Users/Admin/AppData/Local/Programs/Python/Python310/lib/site-packages/urllib3/request.py?line=92'>93</a>\u001b[0m \u001b[39mif\u001b[39;00m fields:\n\u001b[0;32m     <a href='file:///c%3A/Users/Admin/AppData/Local/Programs/Python/Python310/lib/site-packages/urllib3/request.py?line=93'>94</a>\u001b[0m     url \u001b[39m+\u001b[39m\u001b[39m=\u001b[39m \u001b[39m\"\u001b[39m\u001b[39m?\u001b[39m\u001b[39m\"\u001b[39m \u001b[39m+\u001b[39m urlencode(fields)\n\u001b[1;32m---> <a href='file:///c%3A/Users/Admin/AppData/Local/Programs/Python/Python310/lib/site-packages/urllib3/request.py?line=95'>96</a>\u001b[0m \u001b[39mreturn\u001b[39;00m \u001b[39mself\u001b[39m\u001b[39m.\u001b[39murlopen(method, url, \u001b[39m*\u001b[39m\u001b[39m*\u001b[39mextra_kw)\n",
      "File \u001b[1;32mc:\\Users\\Admin\\AppData\\Local\\Programs\\Python\\Python310\\lib\\site-packages\\urllib3\\poolmanager.py:375\u001b[0m, in \u001b[0;36mPoolManager.urlopen\u001b[1;34m(self, method, url, redirect, **kw)\u001b[0m\n\u001b[0;32m    <a href='file:///c%3A/Users/Admin/AppData/Local/Programs/Python/Python310/lib/site-packages/urllib3/poolmanager.py?line=372'>373</a>\u001b[0m     response \u001b[39m=\u001b[39m conn\u001b[39m.\u001b[39murlopen(method, url, \u001b[39m*\u001b[39m\u001b[39m*\u001b[39mkw)\n\u001b[0;32m    <a href='file:///c%3A/Users/Admin/AppData/Local/Programs/Python/Python310/lib/site-packages/urllib3/poolmanager.py?line=373'>374</a>\u001b[0m \u001b[39melse\u001b[39;00m:\n\u001b[1;32m--> <a href='file:///c%3A/Users/Admin/AppData/Local/Programs/Python/Python310/lib/site-packages/urllib3/poolmanager.py?line=374'>375</a>\u001b[0m     response \u001b[39m=\u001b[39m conn\u001b[39m.\u001b[39murlopen(method, u\u001b[39m.\u001b[39mrequest_uri, \u001b[39m*\u001b[39m\u001b[39m*\u001b[39mkw)\n\u001b[0;32m    <a href='file:///c%3A/Users/Admin/AppData/Local/Programs/Python/Python310/lib/site-packages/urllib3/poolmanager.py?line=376'>377</a>\u001b[0m redirect_location \u001b[39m=\u001b[39m redirect \u001b[39mand\u001b[39;00m response\u001b[39m.\u001b[39mget_redirect_location()\n\u001b[0;32m    <a href='file:///c%3A/Users/Admin/AppData/Local/Programs/Python/Python310/lib/site-packages/urllib3/poolmanager.py?line=377'>378</a>\u001b[0m \u001b[39mif\u001b[39;00m \u001b[39mnot\u001b[39;00m redirect_location:\n",
      "File \u001b[1;32mc:\\Users\\Admin\\AppData\\Local\\Programs\\Python\\Python310\\lib\\site-packages\\urllib3\\connectionpool.py:703\u001b[0m, in \u001b[0;36mHTTPConnectionPool.urlopen\u001b[1;34m(self, method, url, body, headers, retries, redirect, assert_same_host, timeout, pool_timeout, release_conn, chunked, body_pos, **response_kw)\u001b[0m\n\u001b[0;32m    <a href='file:///c%3A/Users/Admin/AppData/Local/Programs/Python/Python310/lib/site-packages/urllib3/connectionpool.py?line=699'>700</a>\u001b[0m     \u001b[39mself\u001b[39m\u001b[39m.\u001b[39m_prepare_proxy(conn)\n\u001b[0;32m    <a href='file:///c%3A/Users/Admin/AppData/Local/Programs/Python/Python310/lib/site-packages/urllib3/connectionpool.py?line=701'>702</a>\u001b[0m \u001b[39m# Make the request on the httplib connection object.\u001b[39;00m\n\u001b[1;32m--> <a href='file:///c%3A/Users/Admin/AppData/Local/Programs/Python/Python310/lib/site-packages/urllib3/connectionpool.py?line=702'>703</a>\u001b[0m httplib_response \u001b[39m=\u001b[39m \u001b[39mself\u001b[39;49m\u001b[39m.\u001b[39;49m_make_request(\n\u001b[0;32m    <a href='file:///c%3A/Users/Admin/AppData/Local/Programs/Python/Python310/lib/site-packages/urllib3/connectionpool.py?line=703'>704</a>\u001b[0m     conn,\n\u001b[0;32m    <a href='file:///c%3A/Users/Admin/AppData/Local/Programs/Python/Python310/lib/site-packages/urllib3/connectionpool.py?line=704'>705</a>\u001b[0m     method,\n\u001b[0;32m    <a href='file:///c%3A/Users/Admin/AppData/Local/Programs/Python/Python310/lib/site-packages/urllib3/connectionpool.py?line=705'>706</a>\u001b[0m     url,\n\u001b[0;32m    <a href='file:///c%3A/Users/Admin/AppData/Local/Programs/Python/Python310/lib/site-packages/urllib3/connectionpool.py?line=706'>707</a>\u001b[0m     timeout\u001b[39m=\u001b[39;49mtimeout_obj,\n\u001b[0;32m    <a href='file:///c%3A/Users/Admin/AppData/Local/Programs/Python/Python310/lib/site-packages/urllib3/connectionpool.py?line=707'>708</a>\u001b[0m     body\u001b[39m=\u001b[39;49mbody,\n\u001b[0;32m    <a href='file:///c%3A/Users/Admin/AppData/Local/Programs/Python/Python310/lib/site-packages/urllib3/connectionpool.py?line=708'>709</a>\u001b[0m     headers\u001b[39m=\u001b[39;49mheaders,\n\u001b[0;32m    <a href='file:///c%3A/Users/Admin/AppData/Local/Programs/Python/Python310/lib/site-packages/urllib3/connectionpool.py?line=709'>710</a>\u001b[0m     chunked\u001b[39m=\u001b[39;49mchunked,\n\u001b[0;32m    <a href='file:///c%3A/Users/Admin/AppData/Local/Programs/Python/Python310/lib/site-packages/urllib3/connectionpool.py?line=710'>711</a>\u001b[0m )\n\u001b[0;32m    <a href='file:///c%3A/Users/Admin/AppData/Local/Programs/Python/Python310/lib/site-packages/urllib3/connectionpool.py?line=712'>713</a>\u001b[0m \u001b[39m# If we're going to release the connection in ``finally:``, then\u001b[39;00m\n\u001b[0;32m    <a href='file:///c%3A/Users/Admin/AppData/Local/Programs/Python/Python310/lib/site-packages/urllib3/connectionpool.py?line=713'>714</a>\u001b[0m \u001b[39m# the response doesn't need to know about the connection. Otherwise\u001b[39;00m\n\u001b[0;32m    <a href='file:///c%3A/Users/Admin/AppData/Local/Programs/Python/Python310/lib/site-packages/urllib3/connectionpool.py?line=714'>715</a>\u001b[0m \u001b[39m# it will also try to release it and we'll have a double-release\u001b[39;00m\n\u001b[0;32m    <a href='file:///c%3A/Users/Admin/AppData/Local/Programs/Python/Python310/lib/site-packages/urllib3/connectionpool.py?line=715'>716</a>\u001b[0m \u001b[39m# mess.\u001b[39;00m\n\u001b[0;32m    <a href='file:///c%3A/Users/Admin/AppData/Local/Programs/Python/Python310/lib/site-packages/urllib3/connectionpool.py?line=716'>717</a>\u001b[0m response_conn \u001b[39m=\u001b[39m conn \u001b[39mif\u001b[39;00m \u001b[39mnot\u001b[39;00m release_conn \u001b[39melse\u001b[39;00m \u001b[39mNone\u001b[39;00m\n",
      "File \u001b[1;32mc:\\Users\\Admin\\AppData\\Local\\Programs\\Python\\Python310\\lib\\site-packages\\urllib3\\connectionpool.py:449\u001b[0m, in \u001b[0;36mHTTPConnectionPool._make_request\u001b[1;34m(self, conn, method, url, timeout, chunked, **httplib_request_kw)\u001b[0m\n\u001b[0;32m    <a href='file:///c%3A/Users/Admin/AppData/Local/Programs/Python/Python310/lib/site-packages/urllib3/connectionpool.py?line=443'>444</a>\u001b[0m             httplib_response \u001b[39m=\u001b[39m conn\u001b[39m.\u001b[39mgetresponse()\n\u001b[0;32m    <a href='file:///c%3A/Users/Admin/AppData/Local/Programs/Python/Python310/lib/site-packages/urllib3/connectionpool.py?line=444'>445</a>\u001b[0m         \u001b[39mexcept\u001b[39;00m \u001b[39mBaseException\u001b[39;00m \u001b[39mas\u001b[39;00m e:\n\u001b[0;32m    <a href='file:///c%3A/Users/Admin/AppData/Local/Programs/Python/Python310/lib/site-packages/urllib3/connectionpool.py?line=445'>446</a>\u001b[0m             \u001b[39m# Remove the TypeError from the exception chain in\u001b[39;00m\n\u001b[0;32m    <a href='file:///c%3A/Users/Admin/AppData/Local/Programs/Python/Python310/lib/site-packages/urllib3/connectionpool.py?line=446'>447</a>\u001b[0m             \u001b[39m# Python 3 (including for exceptions like SystemExit).\u001b[39;00m\n\u001b[0;32m    <a href='file:///c%3A/Users/Admin/AppData/Local/Programs/Python/Python310/lib/site-packages/urllib3/connectionpool.py?line=447'>448</a>\u001b[0m             \u001b[39m# Otherwise it looks like a bug in the code.\u001b[39;00m\n\u001b[1;32m--> <a href='file:///c%3A/Users/Admin/AppData/Local/Programs/Python/Python310/lib/site-packages/urllib3/connectionpool.py?line=448'>449</a>\u001b[0m             six\u001b[39m.\u001b[39;49mraise_from(e, \u001b[39mNone\u001b[39;49;00m)\n\u001b[0;32m    <a href='file:///c%3A/Users/Admin/AppData/Local/Programs/Python/Python310/lib/site-packages/urllib3/connectionpool.py?line=449'>450</a>\u001b[0m \u001b[39mexcept\u001b[39;00m (SocketTimeout, BaseSSLError, SocketError) \u001b[39mas\u001b[39;00m e:\n\u001b[0;32m    <a href='file:///c%3A/Users/Admin/AppData/Local/Programs/Python/Python310/lib/site-packages/urllib3/connectionpool.py?line=450'>451</a>\u001b[0m     \u001b[39mself\u001b[39m\u001b[39m.\u001b[39m_raise_timeout(err\u001b[39m=\u001b[39me, url\u001b[39m=\u001b[39murl, timeout_value\u001b[39m=\u001b[39mread_timeout)\n",
      "File \u001b[1;32m<string>:3\u001b[0m, in \u001b[0;36mraise_from\u001b[1;34m(value, from_value)\u001b[0m\n",
      "File \u001b[1;32mc:\\Users\\Admin\\AppData\\Local\\Programs\\Python\\Python310\\lib\\site-packages\\urllib3\\connectionpool.py:444\u001b[0m, in \u001b[0;36mHTTPConnectionPool._make_request\u001b[1;34m(self, conn, method, url, timeout, chunked, **httplib_request_kw)\u001b[0m\n\u001b[0;32m    <a href='file:///c%3A/Users/Admin/AppData/Local/Programs/Python/Python310/lib/site-packages/urllib3/connectionpool.py?line=440'>441</a>\u001b[0m \u001b[39mexcept\u001b[39;00m \u001b[39mTypeError\u001b[39;00m:\n\u001b[0;32m    <a href='file:///c%3A/Users/Admin/AppData/Local/Programs/Python/Python310/lib/site-packages/urllib3/connectionpool.py?line=441'>442</a>\u001b[0m     \u001b[39m# Python 3\u001b[39;00m\n\u001b[0;32m    <a href='file:///c%3A/Users/Admin/AppData/Local/Programs/Python/Python310/lib/site-packages/urllib3/connectionpool.py?line=442'>443</a>\u001b[0m     \u001b[39mtry\u001b[39;00m:\n\u001b[1;32m--> <a href='file:///c%3A/Users/Admin/AppData/Local/Programs/Python/Python310/lib/site-packages/urllib3/connectionpool.py?line=443'>444</a>\u001b[0m         httplib_response \u001b[39m=\u001b[39m conn\u001b[39m.\u001b[39;49mgetresponse()\n\u001b[0;32m    <a href='file:///c%3A/Users/Admin/AppData/Local/Programs/Python/Python310/lib/site-packages/urllib3/connectionpool.py?line=444'>445</a>\u001b[0m     \u001b[39mexcept\u001b[39;00m \u001b[39mBaseException\u001b[39;00m \u001b[39mas\u001b[39;00m e:\n\u001b[0;32m    <a href='file:///c%3A/Users/Admin/AppData/Local/Programs/Python/Python310/lib/site-packages/urllib3/connectionpool.py?line=445'>446</a>\u001b[0m         \u001b[39m# Remove the TypeError from the exception chain in\u001b[39;00m\n\u001b[0;32m    <a href='file:///c%3A/Users/Admin/AppData/Local/Programs/Python/Python310/lib/site-packages/urllib3/connectionpool.py?line=446'>447</a>\u001b[0m         \u001b[39m# Python 3 (including for exceptions like SystemExit).\u001b[39;00m\n\u001b[0;32m    <a href='file:///c%3A/Users/Admin/AppData/Local/Programs/Python/Python310/lib/site-packages/urllib3/connectionpool.py?line=447'>448</a>\u001b[0m         \u001b[39m# Otherwise it looks like a bug in the code.\u001b[39;00m\n\u001b[0;32m    <a href='file:///c%3A/Users/Admin/AppData/Local/Programs/Python/Python310/lib/site-packages/urllib3/connectionpool.py?line=448'>449</a>\u001b[0m         six\u001b[39m.\u001b[39mraise_from(e, \u001b[39mNone\u001b[39;00m)\n",
      "File \u001b[1;32mc:\\Users\\Admin\\AppData\\Local\\Programs\\Python\\Python310\\lib\\http\\client.py:1374\u001b[0m, in \u001b[0;36mHTTPConnection.getresponse\u001b[1;34m(self)\u001b[0m\n\u001b[0;32m   <a href='file:///c%3A/Users/Admin/AppData/Local/Programs/Python/Python310/lib/http/client.py?line=1371'>1372</a>\u001b[0m \u001b[39mtry\u001b[39;00m:\n\u001b[0;32m   <a href='file:///c%3A/Users/Admin/AppData/Local/Programs/Python/Python310/lib/http/client.py?line=1372'>1373</a>\u001b[0m     \u001b[39mtry\u001b[39;00m:\n\u001b[1;32m-> <a href='file:///c%3A/Users/Admin/AppData/Local/Programs/Python/Python310/lib/http/client.py?line=1373'>1374</a>\u001b[0m         response\u001b[39m.\u001b[39;49mbegin()\n\u001b[0;32m   <a href='file:///c%3A/Users/Admin/AppData/Local/Programs/Python/Python310/lib/http/client.py?line=1374'>1375</a>\u001b[0m     \u001b[39mexcept\u001b[39;00m \u001b[39mConnectionError\u001b[39;00m:\n\u001b[0;32m   <a href='file:///c%3A/Users/Admin/AppData/Local/Programs/Python/Python310/lib/http/client.py?line=1375'>1376</a>\u001b[0m         \u001b[39mself\u001b[39m\u001b[39m.\u001b[39mclose()\n",
      "File \u001b[1;32mc:\\Users\\Admin\\AppData\\Local\\Programs\\Python\\Python310\\lib\\http\\client.py:318\u001b[0m, in \u001b[0;36mHTTPResponse.begin\u001b[1;34m(self)\u001b[0m\n\u001b[0;32m    <a href='file:///c%3A/Users/Admin/AppData/Local/Programs/Python/Python310/lib/http/client.py?line=315'>316</a>\u001b[0m \u001b[39m# read until we get a non-100 response\u001b[39;00m\n\u001b[0;32m    <a href='file:///c%3A/Users/Admin/AppData/Local/Programs/Python/Python310/lib/http/client.py?line=316'>317</a>\u001b[0m \u001b[39mwhile\u001b[39;00m \u001b[39mTrue\u001b[39;00m:\n\u001b[1;32m--> <a href='file:///c%3A/Users/Admin/AppData/Local/Programs/Python/Python310/lib/http/client.py?line=317'>318</a>\u001b[0m     version, status, reason \u001b[39m=\u001b[39m \u001b[39mself\u001b[39;49m\u001b[39m.\u001b[39;49m_read_status()\n\u001b[0;32m    <a href='file:///c%3A/Users/Admin/AppData/Local/Programs/Python/Python310/lib/http/client.py?line=318'>319</a>\u001b[0m     \u001b[39mif\u001b[39;00m status \u001b[39m!=\u001b[39m CONTINUE:\n\u001b[0;32m    <a href='file:///c%3A/Users/Admin/AppData/Local/Programs/Python/Python310/lib/http/client.py?line=319'>320</a>\u001b[0m         \u001b[39mbreak\u001b[39;00m\n",
      "File \u001b[1;32mc:\\Users\\Admin\\AppData\\Local\\Programs\\Python\\Python310\\lib\\http\\client.py:279\u001b[0m, in \u001b[0;36mHTTPResponse._read_status\u001b[1;34m(self)\u001b[0m\n\u001b[0;32m    <a href='file:///c%3A/Users/Admin/AppData/Local/Programs/Python/Python310/lib/http/client.py?line=277'>278</a>\u001b[0m \u001b[39mdef\u001b[39;00m \u001b[39m_read_status\u001b[39m(\u001b[39mself\u001b[39m):\n\u001b[1;32m--> <a href='file:///c%3A/Users/Admin/AppData/Local/Programs/Python/Python310/lib/http/client.py?line=278'>279</a>\u001b[0m     line \u001b[39m=\u001b[39m \u001b[39mstr\u001b[39m(\u001b[39mself\u001b[39;49m\u001b[39m.\u001b[39;49mfp\u001b[39m.\u001b[39;49mreadline(_MAXLINE \u001b[39m+\u001b[39;49m \u001b[39m1\u001b[39;49m), \u001b[39m\"\u001b[39m\u001b[39miso-8859-1\u001b[39m\u001b[39m\"\u001b[39m)\n\u001b[0;32m    <a href='file:///c%3A/Users/Admin/AppData/Local/Programs/Python/Python310/lib/http/client.py?line=279'>280</a>\u001b[0m     \u001b[39mif\u001b[39;00m \u001b[39mlen\u001b[39m(line) \u001b[39m>\u001b[39m _MAXLINE:\n\u001b[0;32m    <a href='file:///c%3A/Users/Admin/AppData/Local/Programs/Python/Python310/lib/http/client.py?line=280'>281</a>\u001b[0m         \u001b[39mraise\u001b[39;00m LineTooLong(\u001b[39m\"\u001b[39m\u001b[39mstatus line\u001b[39m\u001b[39m\"\u001b[39m)\n",
      "File \u001b[1;32mc:\\Users\\Admin\\AppData\\Local\\Programs\\Python\\Python310\\lib\\socket.py:705\u001b[0m, in \u001b[0;36mSocketIO.readinto\u001b[1;34m(self, b)\u001b[0m\n\u001b[0;32m    <a href='file:///c%3A/Users/Admin/AppData/Local/Programs/Python/Python310/lib/socket.py?line=702'>703</a>\u001b[0m \u001b[39mwhile\u001b[39;00m \u001b[39mTrue\u001b[39;00m:\n\u001b[0;32m    <a href='file:///c%3A/Users/Admin/AppData/Local/Programs/Python/Python310/lib/socket.py?line=703'>704</a>\u001b[0m     \u001b[39mtry\u001b[39;00m:\n\u001b[1;32m--> <a href='file:///c%3A/Users/Admin/AppData/Local/Programs/Python/Python310/lib/socket.py?line=704'>705</a>\u001b[0m         \u001b[39mreturn\u001b[39;00m \u001b[39mself\u001b[39;49m\u001b[39m.\u001b[39;49m_sock\u001b[39m.\u001b[39;49mrecv_into(b)\n\u001b[0;32m    <a href='file:///c%3A/Users/Admin/AppData/Local/Programs/Python/Python310/lib/socket.py?line=705'>706</a>\u001b[0m     \u001b[39mexcept\u001b[39;00m timeout:\n\u001b[0;32m    <a href='file:///c%3A/Users/Admin/AppData/Local/Programs/Python/Python310/lib/socket.py?line=706'>707</a>\u001b[0m         \u001b[39mself\u001b[39m\u001b[39m.\u001b[39m_timeout_occurred \u001b[39m=\u001b[39m \u001b[39mTrue\u001b[39;00m\n",
      "\u001b[1;31mKeyboardInterrupt\u001b[0m: "
     ]
    }
   ],
   "source": [
    "\n",
    "with open('Du_lieu_dt_7.csv','w',newline='',encoding='utf-8')as file_output:\n",
    "    header=['Name','Brand','Display','HDH','Camera sau','Camera trước','Chip','Ram','Rom','Sim','Battery','Charge','Gia','Danh gia','So Luong','Link','Tên cửa hàng']\n",
    "    writer =csv.DictWriter(file_output,fieldnames=header)\n",
    "    writer.writeheader()\n",
    "    for url in Url_all:\n",
    "        driver.get(url)\n",
    "        page_source=BeautifulSoup(driver.page_source,\"html.parser\")\n",
    "        display=[]\n",
    "        div1=page_source.find('div',class_='parameter')\n",
    "        try :\n",
    "            name=page_source.find('h1').get_text()\n",
    "            tmp_brand=page_source.find('h1').get_text()\n",
    "            brand=tmp_brand.split(' ')[2]\n",
    "            \n",
    "        except AttributeError:\n",
    "            name='null'\n",
    "            continue\n",
    "        for a in div1.find('div',class_='liright'):\n",
    "            if a.get_text()!='\\n':\n",
    "                display.append(a.get_text())\n",
    "        display2= \",\".join(display)#Thông tin màn hình\n",
    "        path_li=div1.find_all('li')\n",
    "        #print(type(hdh_path))\n",
    "        #vì trong các thành phần được trích xuất từ bs4 có dạng mảng nên ta có thể trích xuất các phần tử\n",
    "        # ở đây ta trích xuất phần tử từ trên xuống theo các phần tử có được trích xuất từ web \n",
    "        hdh=path_li[1].find('span').get_text() #Lấy thông tin hệ điều hành\n",
    "        camera_sau=path_li[2].find('span').get_text() #Lấy thông tin camera sau\n",
    "        camera_truoc=path_li[3].find('span').get_text() #Lấy thông tin camera trước\n",
    "        try :\n",
    "            chip=path_li[4].find('span').get_text() #Lấy thông tin chip\n",
    "        except AttributeError:\n",
    "            continue\n",
    "        ram=path_li[5].find('span').get_text() #Lấy thông tin ram\n",
    "        rom=path_li[6].find('span').get_text() #Lấy thông tin rom\n",
    "        try:\n",
    "            sim=path_li[7].find('span').get_text() #Lấy thông tin sim\n",
    "        except AttributeError:\n",
    "            continue\n",
    "        except IndexError:\n",
    "            continue\n",
    "        try:\n",
    "            gia=page_source.find('p',class_='box-price-present').get_text() #Lấy thông tin giá\n",
    "        except AttributeError:\n",
    "            continue\n",
    "        \n",
    "        battery=''\n",
    "        charge=''\n",
    "        nameshop=\"Thế giới di động\"\n",
    "        link=url\n",
    "        i=0\n",
    "        for tmp in  path_li[8].find('div'):\n",
    "            if i==0 and tmp.get_text()!='\\n':\n",
    "                battery=battery+tmp.get_text()\n",
    "                i=i+1\n",
    "            else:\n",
    "                charge=charge+tmp.get_text().strip()\n",
    "        try :\n",
    "            danhgia=page_source.find('p',class_='point').get_text() #Lấy thông tin đánh giá\n",
    "            tmp=page_source.find('p',class_=\"detail-rate-total\").get_text() #Lấy thông tin số lượng\n",
    "            tmp=int(tmp.split(' ')[0])\n",
    "            sluong=tmp\n",
    "            \n",
    "            print(name,display2,hdh,camera_sau,camera_truoc,chip,ram,rom,sim,battery,charge,gia,danhgia,sluong)\n",
    "        except AttributeError:\n",
    "                danhgia='NULL'\n",
    "                sluong=0\n",
    "                writer.writerow({ header[0]:name,header[1]:brand,header[2]:display2,header[3]:hdh,header[4]:camera_sau,header[5]:camera_truoc,header[6]:chip,header[7]:ram,header[8]:rom,header[9]:sim,header[10]:battery,header[11]:charge,header[12]:gia,header[13]:danhgia,header[14]:sluong,header[15]:link,header[16]:nameshop})\n",
    "                print(name,display2,hdh,camera_sau,camera_truoc,chip,ram,rom,sim,battery,charge,gia,danhgia,sluong)\n",
    "\n",
    "                continue\n",
    "        print(name,display2,brand,hdh,camera_sau,camera_truoc,chip,ram,rom,sim,battery,charge,gia,danhgia,sluong)\n",
    "        writer.writerow({ header[0]:name,header[1]:brand,header[2]:display2,header[3]:hdh,header[4]:camera_sau,header[5]:camera_truoc,header[6]:chip,header[7]:ram,header[8]:rom,header[9]:sim,header[10]:battery,header[11]:charge,header[12]:gia,header[13]:danhgia,header[14]:sluong,header[15]:link,header[16]:nameshop})\n",
    "           \n",
    "    "
   ]
  },
  {
   "cell_type": "code",
   "execution_count": null,
   "metadata": {},
   "outputs": [],
   "source": [
    "\n",
    "df=pd.read_csv('Du_lieu_dt_6.csv')\n",
    "df['Tên cửa hàng']='Thế giới đi động'\n",
    "df['Gia']=df['Gia'].replace('[*₫Giá dự kiến: .]','',regex=True)\n",
    "df['Gia']=pd.to_numeric(df['Gia']).astype(int)\n",
    "df=df.dropna(axis=0,how='any')\n",
    "df.to_csv('Du_lieu_dt_6.csv',index=False)"
   ]
  }
 ],
 "metadata": {
  "interpreter": {
   "hash": "a42ccb73e7d9bfdf27e036f1d2b8b681e55fc0743cc5586bc2474d4a60f4b886"
  },
  "kernelspec": {
   "display_name": "Python 3.10.2 64-bit",
   "language": "python",
   "name": "python3"
  },
  "language_info": {
   "codemirror_mode": {
    "name": "ipython",
    "version": 3
   },
   "file_extension": ".py",
   "mimetype": "text/x-python",
   "name": "python",
   "nbconvert_exporter": "python",
   "pygments_lexer": "ipython3",
   "version": "3.10.2"
  },
  "orig_nbformat": 4
 },
 "nbformat": 4,
 "nbformat_minor": 2
}
