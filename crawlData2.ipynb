{
 "cells": [
  {
   "cell_type": "code",
   "execution_count": 87,
   "metadata": {},
   "outputs": [
    {
     "name": "stderr",
     "output_type": "stream",
     "text": [
      "C:\\Users\\Admin\\AppData\\Local\\Temp\\ipykernel_14932\\449194454.py:13: DeprecationWarning: find_element_by_xpath is deprecated. Please use find_element(by=By.XPATH, value=xpath) instead\n",
      "  dt=driver.find_element_by_xpath('/html/body/header/div[2]/div/ul/li[1]/a/span')\n"
     ]
    }
   ],
   "source": [
    "from selenium import webdriver\n",
    "from selenium.webdriver.common.keys import Keys\n",
    "from selenium.webdriver.support.ui import Select\n",
    "from bs4 import BeautifulSoup \n",
    "import requests\n",
    "import pandas as pd\n",
    "import csv\n",
    "from time import sleep\n",
    "# Open web automaticly\n",
    "driver=webdriver.Edge()\n",
    "url='https://www.thegioididong.com' #Lấy link để mở web tự động\n",
    "driver.get(url)\n",
    "dt=driver.find_element_by_xpath('/html/body/header/div[2]/div/ul/li[1]/a/span') \n",
    "dt.click()\n",
    "\n",
    "\n",
    "#Scrape data of products from soucre web \n",
    "def GetUrl():\n",
    "    page_s=BeautifulSoup(driver.page_source) #dùng bs4 tải toàn bộ HTML document lên chương trình\n",
    "    tel_infors=page_s.find_all('a',class_='main-contain') # tìm đúng element trong source để lấy chính xác id, ở đây sử dụng class và  task a\n",
    "\n",
    "    all_prod=[]\n",
    "    for tel_infor in tel_infors:\n",
    "        tel_ID=tel_infor.get('href') # lấy link đuôi trong thành phần có tên là href\n",
    "        tel_If_url='https://www.thegioididong.com'+tel_ID\n",
    "        if tel_If_url not in all_prod:  #để tránh lặp lại gá trị vì trong web có các thành phần nằm chồng lên nhau và giống nhau\n",
    "            all_prod.append(tel_If_url)\n",
    "        set(all_prod)\n",
    "    return all_prod\n",
    "#print(GetUrl(),'\\n==============================================================================')\n",
    "\n"
   ]
  },
  {
   "cell_type": "markdown",
   "metadata": {},
   "source": [
    "Lặp từng vòng page để lấy dữ liệu"
   ]
  },
  {
   "cell_type": "code",
   "execution_count": 88,
   "metadata": {},
   "outputs": [
    {
     "name": "stderr",
     "output_type": "stream",
     "text": [
      "C:\\Users\\Admin\\AppData\\Local\\Temp\\ipykernel_14932\\161496726.py:8: DeprecationWarning: find_element_by_xpath is deprecated. Please use find_element(by=By.XPATH, value=xpath) instead\n",
      "  next_btn=driver.find_element_by_xpath('//*[@id=\"categoryPage\"]/div[3]/div[2]/a')\n"
     ]
    }
   ],
   "source": [
    "#numPg=int(input('Input the page number do you want to scrape'))\n",
    "numPg=4\n",
    "    \n",
    "Url_all=[]\n",
    "  \n",
    "for i in range(numPg):\n",
    "    driver.execute_script('window.scrollTo(0,document.body.scrollHeight)') # thực hiện kéo xuống xuối cuối trang \n",
    "    next_btn=driver.find_element_by_xpath('//*[@id=\"categoryPage\"]/div[3]/div[2]/a')\n",
    "    next_btn.click()\n",
    "driver.execute_script('window.scrollTo(0,document.body.scrollHeight)') # thực hiện kéo xuống xuối cuối trang \n",
    "Url_each_page=GetUrl() # Lấy thông tin tất cả từng trang\n",
    "Url_all=Url_all+Url_each_page  \n",
    "\n",
    "\n"
   ]
  },
  {
   "cell_type": "markdown",
   "metadata": {},
   "source": [
    "Write into file .csv"
   ]
  },
  {
   "cell_type": "code",
   "execution_count": 89,
   "metadata": {},
   "outputs": [
    {
     "name": "stdout",
     "output_type": "stream",
     "text": [
      "Điện thoại Samsung Galaxy S22 Ultra 5G 128GB Dynamic AMOLED 2X,6.8\",Quad HD+ (2K+) Android 12 Chính 108 MP & Phụ 12 MP, 10 MP, 10 MP 40 MP Snapdragon 8 Gen 1 8 nhân 8 GB 128 GB 2 Nano SIM hoặc 1 Nano SIM + 1 eSIM 5000 mAh 45 W 30.990.000₫  3.3\n",
      "Điện thoại iPhone 11 64GB IPS LCD,6.1\",Liquid Retina iOS 15 2 camera 12 MP 12 MP Apple A13 Bionic 4 GB 64 GB 1 Nano SIM & 1 eSIM 3110 mAh 18 W 16.290.000₫  4.0\n",
      "Điện thoại OPPO Reno7 Z 5G AMOLED,6.43\",Full HD+ Android 11 Chính 64 MP & Phụ 2 MP, 2 MP 16 MP Snapdragon 695 5G 8 nhân 8 GB 128 GB 2 Nano SIM (SIM 2 chung khe thẻ nhớ) 4500 mAh 33 W 10.490.000₫  3.9\n",
      "Điện thoại Realme C35 IPS LCD,6.6\",Full HD+ Android 11 Chính 50 MP & Phụ 2 MP, 0.3 MP 8 MP Unisoc T616 8 nhân 4 GB 64 GB 2 Nano SIM 5000 mAh 18 W 3.990.000₫  3.9\n",
      "Điện thoại Xiaomi 11T 5G 128GB AMOLED,6.67\",Full HD+ Android 11 Chính 108 MP & Phụ 8 MP, 5 MP 16 MP MediaTek Dimensity 1200 8 GB 128 GB 2 Nano SIM 5000 mAh 67 W 10.990.000₫  4.0\n",
      "Điện thoại Samsung Galaxy A03 3GB PLS LCD,6.5\",HD+ Android 11 Chính 48 MP & Phụ 2 MP 5 MP Unisoc T606 8 nhân 3 GB 32 GB 2 Nano SIM 5000 mAh 7.75 W 2.990.000₫  3.8\n",
      "Điện thoại Xiaomi Redmi Note 11 Pro AMOLED,6.67\",Full HD+ Android 11 Chính 108 MP & Phụ 8 MP, 2 MP, 2 MP 16 MP MediaTek Helio G96 8 nhân 8 GB 128 GB 2 Nano SIM (SIM 2 chung khe thẻ nhớ) 5000 mAh 67 W 7.490.000₫  3.5\n",
      "Điện thoại iPhone 13 Pro Max 128GB OLED,6.7\",Super Retina XDR iOS 15 3 camera 12 MP 12 MP Apple A15 Bionic 6 GB 128 GB 1 Nano SIM & 1 eSIM 4352 mAh 20 W 33.990.000₫  4.6\n",
      "Điện thoại Samsung Galaxy A52s 5G 128GB Super AMOLED,6.5\",Full HD+ Android 11 Chính 64 MP & Phụ 12 MP, 5 MP, 5 MP 32 MP Snapdragon 778G 5G 8 nhân 8 GB 128 GB 2 Nano SIM (SIM 2 chung khe thẻ nhớ) 4500 mAh 25 W 10.990.000₫  3.7\n",
      "Điện thoại Vivo Y15s IPS LCD,6.51\",HD+ Android 11 (Go Edition) Chính 13 MP & Phụ 2 MP 8 MP MediaTek Helio P35 3 GB 32 GB 2 Nano SIM 5000 mAh 10 W 3.490.000₫  3.4\n",
      "Điện thoại Samsung Galaxy Z Fold3 5G 256GB Dynamic AMOLED 2X,Chính 7.6\" & Phụ 6.2\",Full HD+ Android 11 3 camera 12 MP 10 MP & 4 MP Snapdragon 888 12 GB 256 GB 2 Nano SIM + 1 eSIM 4400 mAh 25 W 37.990.000₫  4.8\n",
      "Điện thoại iPhone 13 Pro 128GB OLED,6.1\",Super Retina XDR iOS 15 3 camera 12 MP 12 MP Apple A15 Bionic 6 GB 128 GB 1 Nano SIM & 1 eSIM 3095 mAh 20 W 29.990.000₫  4.4\n",
      "Điện thoại iPhone 12 Pro Max 256GB OLED,6.7\",Super Retina XDR iOS 15 3 camera 12 MP 12 MP Apple A14 Bionic 6 GB 256 GB 1 Nano SIM & 1 eSIM 3687 mAh 20 W 29.990.000₫  4\n",
      "Điện thoại Samsung Galaxy S22+ 5G 128GB Dynamic AMOLED 2X,6.6\",Full HD+ Android 12 Chính 50 MP & Phụ 12 MP, 10 MP 10 MP Snapdragon 8 Gen 1 8 nhân 8 GB 128 GB 2 Nano SIM hoặc 1 Nano SIM + 1 eSIM 4500 mAh 45 W 25.990.000₫  5\n",
      "Điện thoại Samsung Galaxy S21 Ultra 5G 128GB Dynamic AMOLED 2X,6.8\",Quad HD+ (2K+) Android 11 Chính 108 MP & Phụ 12 MP, 10 MP, 10 MP 40 MP Exynos 2100 12 GB 128 GB 2 Nano SIM hoặc 1 Nano SIM + 1 eSIM 5000 mAh 25 W 25.990.000₫  3.3\n",
      "Điện thoại iPhone 12 Pro 256GB OLED,6.1\",Super Retina XDR iOS 15 3 camera 12 MP 12 MP Apple A14 Bionic 6 GB 256 GB 1 Nano SIM & 1 eSIM 2815 mAh 20 W 26.290.000₫  3.5\n",
      "Điện thoại iPhone 13 128GB OLED,6.1\",Super Retina XDR iOS 15 2 camera 12 MP 12 MP Apple A15 Bionic 4 GB 128 GB 1 Nano SIM & 1 eSIM 3240 mAh 20 W 24.190.000₫  4.4\n",
      "Điện thoại Samsung Galaxy S22 5G 128GB Dynamic AMOLED 2X,6.1\",Full HD+ Android 12 Chính 50 MP & Phụ 12 MP, 10 MP 10 MP Snapdragon 8 Gen 1 8 nhân 8 GB 128 GB 2 Nano SIM hoặc 1 Nano SIM + 1 eSIM 3700 mAh 25 W 21.990.000₫  5\n",
      "Điện thoại Samsung Galaxy S21+ 5G 128GB Dynamic AMOLED 2X,6.7\",Full HD+ Android 11 Chính 12 MP & Phụ 64 MP, 12 MP 10 MP Exynos 2100 8 GB 128 GB 2 Nano SIM hoặc 1 Nano SIM + 1 eSIM 4800 mAh 25 W 20.990.000₫  3.0\n",
      "Điện thoại Samsung Galaxy Z Flip3 5G 128GB Dynamic AMOLED 2X,Chính 6.7\" & Phụ 1.9\",Full HD+ Android 11 2 camera 12 MP 10 MP Snapdragon 888 8 GB 128 GB 1 Nano SIM & 1 eSIM 3300 mAh 15 W 20.990.000₫  4.1\n",
      "Điện thoại Xiaomi 12 AMOLED,6.28\",Full HD+ Android 12 Chính 50 MP & Phụ 13 MP, 5 MP 32 MP Snapdragon 8 Gen 1 8 nhân 8 GB 256 GB 2 Nano SIM 4500 mAh 67 W 19.990.000₫  5\n",
      "Điện thoại iPhone 12 64GB OLED,6.1\",Super Retina XDR iOS 15 2 camera 12 MP 12 MP Apple A14 Bionic 4 GB 64 GB 1 Nano SIM & 1 eSIM 2815 mAh 20 W 18.990.000₫ * 3.9\n",
      "Điện thoại iPhone 13 mini 128GB OLED,5.4\",Super Retina XDR iOS 15 2 camera 12 MP 12 MP Apple A15 Bionic 4 GB 128 GB 1 Nano SIM & 1 eSIM 2438 mAh 20 W 18.990.000₫ * 4.4\n",
      "Điện thoại Samsung Galaxy S21 5G Dynamic AMOLED 2X,6.2\",Full HD+ Android 11 Chính 12 MP & Phụ 64 MP, 12 MP 10 MP Exynos 2100 8 GB 128 GB 2 Nano SIM hoặc 1 Nano SIM + 1 eSIM 4000 mAh 25 W 20.990.000₫ 3.5\n",
      "Điện thoại iPhone 12 mini 64GB OLED,5.4\",Super Retina XDR iOS 15 2 camera 12 MP 12 MP Apple A14 Bionic 4 GB 64 GB 1 Nano SIM & 1 eSIM 2227 mAh 20 W 16.190.000₫  3.8\n",
      "Điện thoại Samsung Galaxy Note 20 Super AMOLED Plus,6.7\",Full HD+ Android 10 Chính 12 MP & Phụ 64 MP, 12 MP 10 MP Exynos 990 8 GB 256 GB 2 Nano SIM hoặc 1 Nano SIM + 1 eSIM 4300 mAh 25 W 15.990.000₫  3.1\n",
      "Điện thoại Samsung Galaxy S21 FE 5G (6GB/128GB) Dynamic AMOLED 2X,6.4\",Full HD+ Android 12 Chính 12 MP & Phụ 12 MP, 8 MP 32 MP Exynos 2100 6 GB 128 GB 2 Nano SIM 4500 mAh 25 W 15.490.000₫  3.9\n",
      "Điện thoại Xiaomi 11T Pro 5G 8GB AMOLED,6.67\",Full HD+ Android 11 Chính 108 MP & Phụ 8 MP, 5 MP 16 MP Snapdragon 888 8 GB 256 GB 2 Nano SIM 5000 mAh 120 W 13.990.000₫  3\n",
      "Điện thoại iPhone XR 128GB IPS LCD,6.1\",Liquid Retina iOS 15 12 MP 7 MP Apple A12 Bionic 3 GB 128 GB 1 Nano SIM & 1 eSIM 2942 mAh 15 W 13.490.000₫  4.2\n",
      "Điện thoại OPPO Reno6 5G AMOLED,6.43\",Full HD+ Android 11 Chính 64 MP & Phụ 8 MP, 2 MP 32 MP MediaTek Dimensity 900 5G 8 GB 128 GB 2 Nano SIM 4300 mAh 65 W 12.990.000₫  3.8\n",
      "Điện thoại Samsung Galaxy S20 FE (8GB/256GB) Super AMOLED,6.5\",Full HD+ Android 11 Chính 12 MP & Phụ 12 MP, 8 MP 32 MP Snapdragon 865 8 GB 256 GB 2 Nano SIM (SIM 2 chung khe thẻ nhớ) 4500 mAh 25 W 11.990.000₫  3.5\n",
      "Điện thoại iPhone SE 64GB (2020) (Hộp mới) IPS LCD,4.7\",Retina HD iOS 15 12 MP 7 MP Apple A13 Bionic 3 GB 64 GB 1 Nano SIM & 1 eSIM 1821 mAh 18 W 10.690.000₫  4.1\n",
      "Điện thoại OPPO Reno4 Pro AMOLED,6.5\",Full HD+ Android 10 Chính 48 MP & Phụ 8 MP, 2 MP, 2 MP 32 MP Snapdragon 720G 8 GB 256 GB 2 Nano SIM 4000 mAh 65 W 10.490.000₫  4.1\n",
      "Điện thoại Vivo V21 5G AMOLED,6.44\",Full HD+ Android 11 Chính 64 MP & Phụ 8 MP, 2 MP 44 MP MediaTek Dimensity 800U 5G 8 GB + 3 GB (Công nghệ mở rộng RAM) 128 GB 2 Nano SIM 4000 mAh 33 W 9.990.000₫  3.3\n",
      "Điện thoại Samsung Galaxy A53 5G 128GB Super AMOLED,6.5\",Full HD+ Android 12 Chính 64 MP & Phụ 12 MP, 5 MP, 5 MP 32 MP Exynos 1280 8 nhân 8 GB 128 GB 2 Nano SIM (SIM 2 chung khe thẻ nhớ) 5000 mAh 25 W 9.990.000₫  3.5\n",
      "Điện thoại Xiaomi 11 Lite 5G NE AMOLED,6.55\",Full HD+ Android 11 Chính 64 MP & Phụ 8 MP, 5 MP 20 MP Snapdragon 778G 5G 8 nhân 8 GB 128 GB 2 Nano SIM (SIM 2 chung khe thẻ nhớ) 4250 mAh 33 W 9.490.000₫  3.7\n",
      "Điện thoại Samsung Galaxy A52 128GB Super AMOLED,6.5\",Full HD+ Android 11 Chính 64 MP & Phụ 12 MP, 5 MP, 5 MP 32 MP Snapdragon 720G 8 GB 128 GB 2 Nano SIM 4500 mAh 25 W 9.290.000₫  3.0\n",
      "Điện thoại OPPO Reno5 5G AMOLED,6.43\",Full HD+ Android 11 Chính 64 MP & Phụ 8 MP, 2 MP, 2 MP 32 MP Snapdragon 765G 8 GB 128 GB 2 Nano SIM 4300 mAh 65 W 8.990.000₫  3.4\n",
      "Điện thoại Realme 7 Pro Super AMOLED,6.4\",Full HD+ Android 10 Chính 64 MP & Phụ 8 MP, 2 MP, 2 MP 32 MP Snapdragon 720G 8 GB 128 GB 2 Nano SIM 4500 mAh 65 W 8.990.000₫  4\n",
      "Điện thoại Vivo V23e AMOLED,6.44\",Full HD+ Android 11 Chính 64 MP & Phụ 8 MP, 2 MP 50 MP MediaTek Helio G96 8 nhân 8 GB 128 GB 2 Nano SIM (SIM 2 chung khe thẻ nhớ) 4050 mAh 44 W 8.490.000₫  3.9\n",
      "Điện thoại Xiaomi Mi 11 Lite AMOLED,6.55\",Full HD+ Android 11 Chính 64 MP & Phụ 8 MP, 5 MP 16 MP Snapdragon 732G 8 GB 128 GB 2 Nano SIM (SIM 2 chung khe thẻ nhớ) 4250 mAh 33 W 7.990.000₫  3.2\n",
      "Điện thoại Realme 9 Pro 5G IPS LCD,6.6\",Full HD+ Android 12 Chính 64 MP & Phụ 8 MP, 2 MP 16 MP Snapdragon 695 5G 8 nhân 8 GB 128 GB 2 Nano SIM (SIM 2 chung khe thẻ nhớ) 5000 mAh 33 W 7.990.000₫  3.5\n",
      "Điện thoại OPPO A74 5G IPS LCD,6.5\",Full HD+ Android 11 Chính 48 MP & Phụ 8 MP, 2 MP, 2 MP 16 MP Snapdragon 480 8 nhân 5G 6 GB 128 GB 2 Nano SIM 5000 mAh 18 W 7.990.000₫  3.1\n",
      "Điện thoại Vivo Y72 5G IPS LCD,6.58\",Full HD+ Android 11 Chính 64 MP & Phụ 8 MP, 2 MP 16 MP MediaTek Dimensity 700 8 GB 128 GB 2 Nano SIM (SIM 2 chung khe thẻ nhớ) 5000 mAh 18 W 7.990.000₫  3.5\n",
      "Điện thoại Samsung Galaxy M33 5G TFT LCD,6.6\",Full HD+ Android 12 Chính 50 MP & Phụ 5 MP, 2 MP, 2 MP 8 MP Exynos 1280 8 nhân 6 GB 128 GB 2 Nano SIM 5000 mAh 25 W 7.690.000₫  5\n",
      "Điện thoại Xiaomi Redmi Note 10 Pro (8GB/128GB) AMOLED,6.67\",Full HD+ Android 11 Chính 108 MP & Phụ 8 MP, 5 MP, 2 MP 16 MP Snapdragon 732G 8 GB 128 GB 2 Nano SIM 5020 mAh 33 W 7.490.000₫  3.1\n",
      "Điện thoại Vivo V20 (2021) AMOLED,6.44\",Full HD+ Android 11 Chính 64 MP & Phụ 8 MP, 2 MP 44 MP Snapdragon 730 8 GB 128 GB 2 Nano SIM 4000 mAh 33 W 7.490.000₫  3.2\n",
      "Điện thoại Realme 8 Super AMOLED,6.4\",Full HD+ Android 11 Chính 64 MP & Phụ 8 MP, 2 MP, 2 MP 16 MP MediaTek Helio G95 8 GB 128 GB 2 Nano SIM 5000 mAh 30 W 7.290.000₫  3.4\n",
      "Điện thoại OPPO A95 AMOLED,6.43\",Full HD+ Android 11 Chính 48 MP & Phụ 2 MP, 2 MP 16 MP Snapdragon 662 8 GB 128 GB 2 Nano SIM 5000 mAh 33 W 6.990.000₫  4.1\n",
      "Điện thoại Vivo Y33s IPS LCD,6.58\",Full HD+ Android 11 Chính 50 MP & Phụ 2 MP, 2 MP 16 MP MediaTek Helio G80 8 GB 128 GB 2 Nano SIM 5000 mAh 18 W 6.990.000₫  4.1\n",
      "Điện thoại Vivo Y53s IPS LCD,6.58\",Full HD+ Android 11 Chính 64 MP & Phụ 2 MP, 2 MP 16 MP MediaTek Helio G80 8 GB 128 GB 2 Nano SIM 5000 mAh 33 W 6.990.000₫  2.2\n",
      "Điện thoại Samsung Galaxy A32 Super AMOLED,6.4\",Full HD+ Android 11 Chính 64 MP & Phụ 8 MP, 5MP, 5MP 20 MP MediaTek Helio G80 6 GB 128 GB 2 Nano SIM 5000 mAh 15 W 6.490.000₫  3.1\n",
      "Điện thoại Xiaomi Redmi Note 10S 6GB AMOLED,6.43\",Full HD+ Android 11 Chính 64 MP & Phụ 8 MP, 2 MP, 2 MP 13 MP MediaTek Helio G95 6 GB 128 GB 2 Nano SIM 5000 mAh 33 W 5.990.000₫  4.1\n",
      "Điện thoại OPPO A76 IPS LCD,6.56\",HD+ Android 11 Chính 13 MP & Phụ 2 MP 8 MP Snapdragon 680 8 nhân 6 GB 128 GB 2 Nano SIM 5000 mAh 33 W 5.990.000₫  4.6\n",
      "Điện thoại Samsung Galaxy A22 Super AMOLED,6.4\",HD+ Android 11 Chính 48 MP & Phụ 8 MP, 2 MP, 2 MP 13 MP MediaTek MT6769V 6 GB 128 GB 2 Nano SIM 5000 mAh 15 W 5.890.000₫  3.5\n",
      "Điện thoại Samsung Galaxy A23 4GB PLS TFT LCD,6.6\",Full HD+ Android 12 Chính 50 MP & Phụ 5 MP, 2 MP, 2 MP 8 MP Snapdragon 680 8 nhân 4 GB 128 GB 2 Nano SIM 5000 mAh 25 W 5.690.000₫  3.6\n",
      "Điện thoại OPPO A55 IPS LCD,6.5\",HD+ Android 11 Chính 50 MP & Phụ 2 MP, 2 MP 16 MP MediaTek Helio G35 4 GB 64 GB 2 Nano SIM 5000 mAh 18 W 4.990.000₫  3.6\n",
      "Điện thoại Samsung Galaxy A13 4GB PLS TFT LCD,6.6\",Full HD+ Android 12 Chính 50 MP & Phụ 5 MP, 2 MP, 2 MP 8 MP Exynos 850 4 GB 128 GB 2 Nano SIM 5000 mAh 15 W 4.690.000₫  3.4\n",
      "Điện thoại Xiaomi Redmi Note 11 (4GB/64GB) AMOLED,6.43\",Full HD+ Android 11 Chính 50  MP & Phụ 8 MP, 2 MP, 2 MP 13 MP Snapdragon 680 8 nhân 4 GB 64 GB 2 Nano SIM 5000 mAh 33 W 4.690.000₫  4.0\n",
      "Điện thoại Realme C25Y 64GB IPS LCD,6.5\",HD+ Android 11 Chính 50 MP & Phụ 2 MP, 2 MP 8 MP Unisoc T618 8 nhân 4 GB 64 GB 2 Nano SIM 5000 mAh 18 W 4.690.000₫  2.3\n",
      "Điện thoại Realme C25 IPS LCD,6.5\",HD+ Android 11 Chính 48 MP & Phụ 2 MP, 2 MP 8 MP MediaTek Helio G70 4 GB 128 GB 2 Nano SIM 6000 mAh 18 W 4.690.000₫  3.2\n",
      "Điện thoại Vivo Y21 IPS LCD,6.51\",HD+ Android 11 Chính 13 MP & Phụ 2 MP 8 MP MediaTek Helio P35 4 GB 64 GB 2 Nano SIM 5000 mAh 18 W 4.290.000₫  3.4\n",
      "Điện thoại Samsung Galaxy A12 4GB (2021) PLS TFT LCD,6.5\",HD+ Android 11 Chính 48 MP & Phụ 5 MP, 2 MP, 2 MP 8 MP Exynos 850 4 GB 128 GB 2 Nano SIM 5000 mAh 15 W 4.290.000₫  4.0\n",
      "Điện thoại OPPO A15s IPS LCD,6.52\",HD+ Android 10 Chính 13 MP & Phụ 2 MP, 2 MP 8 MP MediaTek Helio P35 4 GB 64 GB 2 Nano SIM 4230 mAh 10 W 4.290.000₫  2.9\n",
      "Điện thoại Xiaomi Redmi 10 (4GB/128GB) IPS LCD,6.5\",Full HD+ Android 11 Chính 50  MP & Phụ 8 MP, 2 MP, 2 MP 8 MP MediaTek Helio G88 8 nhân 4 GB 128 GB 2 Nano SIM 5000 mAh 18 W 4.290.000₫  3.7\n",
      "Điện thoại OPPO A16 IPS LCD,6.52\",HD+ Android 11 Chính 13 MP & Phụ 2 MP, 2 MP 8 MP MediaTek Helio G35 3 GB 32 GB 2 Nano SIM 5000 mAh 10 W 3.990.000₫  4.5\n",
      "Điện thoại Realme C21Y 3GB IPS LCD,6.5\",HD+ Android 11 Chính 13 MP & Phụ 2 MP, 2 MP 5 MP Spreadtrum T610 8 nhân 3 GB 32 GB 2 Nano SIM 5000 mAh 10 W 3.690.000₫  2.7\n",
      "Điện thoại Realme C21-Y 3GB IPS LCD,6.5\",HD+ Android 11 Chính 13 MP & Phụ 2 MP, 2 MP 5 MP Spreadtrum T610 8 nhân 3 GB 32 GB 2 Nano SIM 5000 mAh 10 W 3.690.000₫  3.7\n",
      "Điện thoại Nokia G10 TFT LCD,6.5\",HD+ Android 11 Chính 13 MP & Phụ 2 MP, 2 MP 8 MP MediaTek Helio G25 4 GB 64 GB 2 Nano SIM 5050 mAh 10 W 3.490.000₫  3.2\n",
      "Điện thoại Xiaomi Redmi 10C 64GB IPS LCD,6.71\",HD+ Android 11 Chính 50 MP & Phụ 2 MP 5 MP Snapdragon 680 8 nhân 4 GB 64 GB 2 Nano SIM 5000 mAh 18 W 3.490.000₫  4.1\n"
     ]
    }
   ],
   "source": [
    "\n",
    "with open('Du_lieu_dien_thoai.csv','w',newline='',encoding='utf-8')as file_output:\n",
    "    header=['Name','Display','HDH','Camera sau','Camera trước','Chip','Ram','Rom','Sim','Battery','Charge','Gia','Danh gia']\n",
    "    writer =csv.DictWriter(file_output,fieldnames=header)\n",
    "    writer.writeheader()\n",
    "    for url in Url_all:\n",
    "        driver.get(url)\n",
    "        page_source=BeautifulSoup(driver.page_source,\"html.parser\")\n",
    "        display=[]\n",
    "        div1=page_source.find('div',class_='parameter')\n",
    "        try :\n",
    "            name=page_source.find('h1').get_text()\n",
    "        except AttributeError:\n",
    "            name='null'\n",
    "            continue\n",
    "        for a in div1.find('div',class_='liright'):\n",
    "            if a.get_text()!='\\n':\n",
    "                display.append(a.get_text())\n",
    "        display2= \",\".join(display)#Thông tin màn hình\n",
    "        path_li=div1.find_all('li')\n",
    "        #print(type(hdh_path))\n",
    "        #vì trong các thành phần được trích xuất từ bs4 có dạng mảng nên ta có thể trích xuất các phần tử\n",
    "        # ở đây ta trích xuất phần tử từ trên xuống theo các phần tử có được trích xuất từ web \n",
    "        hdh=path_li[1].find('span').get_text() #Lấy thông tin hệ điều hành\n",
    "        camera_sau=path_li[2].find('span').get_text() #Lấy thông tin camera sau\n",
    "        camera_truoc=path_li[3].find('span').get_text() #Lấy thông tin camera trước\n",
    "        chip=path_li[4].find('span').get_text() #Lấy thông tin chip\n",
    "        ram=path_li[5].find('span').get_text() #Lấy thông tin ram\n",
    "        rom=path_li[6].find('span').get_text() #Lấy thông tin rom\n",
    "        sim=path_li[7].find('span').get_text() #Lấy thông tin sim\n",
    "        gia=page_source.find('p',class_='box-price-present').get_text() #Lấy thông tin giá\n",
    "        battery=''\n",
    "        charge=''\n",
    "        i=0\n",
    "        for tmp in  path_li[8].find('div'):\n",
    "            if i==0 and tmp.get_text()!='\\n':\n",
    "                battery=battery+tmp.get_text()\n",
    "                i=i+1\n",
    "            else:\n",
    "                charge=charge+tmp.get_text().strip()\n",
    "        try :\n",
    "            danhgia=page_source.find('p',class_='point').get_text() #Lấy thông tin đánh giá\n",
    "        except AttributeError:\n",
    "                danhgia='null'\n",
    "               \n",
    "                continue\n",
    "        print(name,display2,hdh,camera_sau,camera_truoc,chip,ram,rom,sim,battery,charge,gia,danhgia)\n",
    "        writer.writerow({ header[0]:name,header[1]:display2,header[2]:hdh,header[3]:camera_sau,header[4]:camera_truoc,header[5]:chip,header[6]:ram,header[7]:rom,header[8]:sim,header[9]:battery,header[10]:charge,header[11]:gia,header[12]:danhgia})\n",
    "            \n",
    "    "
   ]
  },
  {
   "cell_type": "code",
   "execution_count": 90,
   "metadata": {},
   "outputs": [
    {
     "name": "stdout",
     "output_type": "stream",
     "text": [
      "                                           Name  \\\n",
      "0  Điện thoại Samsung Galaxy S22 Ultra 5G 128GB   \n",
      "\n",
      "                                 Display         HDH  \\\n",
      "0  Dynamic AMOLED 2X,6.8\",Quad HD+ (2K+)  Android 12   \n",
      "\n",
      "                               Camera sau Camera trước  \\\n",
      "0  Chính 108 MP & Phụ 12 MP, 10 MP, 10 MP        40 MP   \n",
      "\n",
      "                        Chip   Ram     Rom  \\\n",
      "0  Snapdragon 8 Gen 1 8 nhân  8 GB  128 GB   \n",
      "\n",
      "                                   Sim   Battery Charge           Gia  \\\n",
      "0  2 Nano SIM hoặc 1 Nano SIM + 1 eSIM  5000 mAh   45 W  30.990.000₫    \n",
      "\n",
      "   Danh gia  \n",
      "0       3.3  \n"
     ]
    }
   ],
   "source": [
    "df=pd.read_csv('data.csv')\n",
    "print(df)"
   ]
  }
 ],
 "metadata": {
  "interpreter": {
   "hash": "bfb4883d108fc92ac768439090a2e92bb9a1f760a54beeecfd6762b5dcd70fe3"
  },
  "kernelspec": {
   "display_name": "Python 3.10.2 64-bit",
   "language": "python",
   "name": "python3"
  },
  "language_info": {
   "codemirror_mode": {
    "name": "ipython",
    "version": 3
   },
   "file_extension": ".py",
   "mimetype": "text/x-python",
   "name": "python",
   "nbconvert_exporter": "python",
   "pygments_lexer": "ipython3",
   "version": "3.10.2"
  },
  "orig_nbformat": 4
 },
 "nbformat": 4,
 "nbformat_minor": 2
}
